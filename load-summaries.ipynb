{
 "cells": [
  {
   "cell_type": "markdown",
   "metadata": {
    "papermill": {
     "duration": 0.017556,
     "end_time": "2021-04-13T20:05:49.923951",
     "exception": false,
     "start_time": "2021-04-13T20:05:49.906395",
     "status": "completed"
    },
    "tags": []
   },
   "source": [
    "Load Book summaries to test the Machine Learning and Deep Learning models.\n",
    "\n",
    "Dataset from goodreads to train and test Machine Learning & Deep Learning models."
   ]
  },
  {
   "cell_type": "code",
   "execution_count": 1,
   "metadata": {
    "_cell_guid": "eb295858-d8da-41d4-8a38-f1d7d42b8b68",
    "_uuid": "529e8cc8-7a31-4eae-aec4-f0ff6513c16d",
    "execution": {
     "iopub.execute_input": "2021-04-13T20:05:49.964414Z",
     "iopub.status.busy": "2021-04-13T20:05:49.963521Z",
     "iopub.status.idle": "2021-04-13T20:05:49.966194Z",
     "shell.execute_reply": "2021-04-13T20:05:49.966841Z"
    },
    "papermill": {
     "duration": 0.02693,
     "end_time": "2021-04-13T20:05:49.967212",
     "exception": false,
     "start_time": "2021-04-13T20:05:49.940282",
     "status": "completed"
    },
    "tags": []
   },
   "outputs": [],
   "source": [
    "# This Python 3 environment comes with many helpful analytics libraries installed\n",
    "import numpy as np # linear algebra\n",
    "import pandas as pd # data processing, CSV file I/O (e.g. pd.read_csv)\n",
    "\n",
    "import os\n"
   ]
  },
  {
   "cell_type": "code",
   "execution_count": 2,
   "metadata": {
    "execution": {
     "iopub.execute_input": "2021-04-13T20:05:50.004594Z",
     "iopub.status.busy": "2021-04-13T20:05:50.003850Z",
     "iopub.status.idle": "2021-04-13T20:05:50.009999Z",
     "shell.execute_reply": "2021-04-13T20:05:50.009364Z"
    },
    "papermill": {
     "duration": 0.026236,
     "end_time": "2021-04-13T20:05:50.010170",
     "exception": false,
     "start_time": "2021-04-13T20:05:49.983934",
     "status": "completed"
    },
    "tags": []
   },
   "outputs": [],
   "source": [
    "summaries_dict = { 'title':[],\n",
    "                  'author':[],\n",
    "                  'genre':[],\n",
    "                  'summary':[]}"
   ]
  },
  {
   "cell_type": "code",
   "execution_count": 3,
   "metadata": {
    "execution": {
     "iopub.execute_input": "2021-04-13T20:05:50.049457Z",
     "iopub.status.busy": "2021-04-13T20:05:50.048727Z",
     "iopub.status.idle": "2021-04-13T20:05:50.051209Z",
     "shell.execute_reply": "2021-04-13T20:05:50.051729Z"
    },
    "papermill": {
     "duration": 0.025215,
     "end_time": "2021-04-13T20:05:50.051929",
     "exception": false,
     "start_time": "2021-04-13T20:05:50.026714",
     "status": "completed"
    },
    "tags": []
   },
   "outputs": [],
   "source": [
    "def add_summary(title, author, genre, summary, summaries_dict=summaries_dict):\n",
    "    summaries_dict['title'].append(title)\n",
    "    summaries_dict['author'].append(author)\n",
    "    summaries_dict['genre'].append(genre)\n",
    "    summaries_dict['summary'].append(summary)\n",
    "    return summaries_dict"
   ]
  },
  {
   "cell_type": "code",
   "execution_count": 4,
   "metadata": {
    "execution": {
     "iopub.execute_input": "2021-04-13T20:05:50.090088Z",
     "iopub.status.busy": "2021-04-13T20:05:50.089249Z",
     "iopub.status.idle": "2021-04-13T20:05:50.101032Z",
     "shell.execute_reply": "2021-04-13T20:05:50.101619Z"
    },
    "papermill": {
     "duration": 0.033007,
     "end_time": "2021-04-13T20:05:50.101816",
     "exception": false,
     "start_time": "2021-04-13T20:05:50.068809",
     "status": "completed"
    },
    "tags": []
   },
   "outputs": [],
   "source": [
    "s = \"Nesta Archeron has always been prickly-proud, swift to anger, and slow to forgive. And ever since being forced into the Cauldron and becoming High Fae against her will, she's struggled to find a place for herself within the strange, deadly world she inhabits. Worse, she can't seem to move past the horrors of the war with Hybern and all she lost in it. The one person who ignites her temper more than any other is Cassian, the battle-scarred warrior whose position in Rhysand and Feyre's Night Court keeps him constantly in Nesta's orbit. But her temper isn't the only thing Cassian ignites. The fire between them is undeniable, and only burns hotter as they are forced into close quarters with each other. Meanwhile, the treacherous human queens who returned to the Continent during the last war have forged a dangerous new alliance, threatening the fragile peace that has settled over the realms. And the key to halting them might very well rely on Cassian and Nesta facing their haunting pasts. Against the sweeping backdrop of a world seared by war and plagued with uncertainty, Nesta and Cassian battle monsters from within and without as they search for acceptance-and healing-in each other's arms.\"\n",
    "summaries_dict = add_summary(title=\"A Court of Silver Flames\", author=\"Sarah J. Maas\", genre=\"Fantasy\", summary=s)\n",
    "\n",
    "s = \"While the Iskat Empire has long dominated the system through treaties and political alliances, several planets, including Thea, have begun to chafe under Iskat's rule. When tragedy befalls Imperial Prince Taam, his Thean widower, Jainan, is rushed into an arranged marriage with Taam's cousin, the disreputable Kiem, in a bid to keep the rising hostilities between the two worlds under control.But when it comes to light that Prince Taam's death may not have been an accident, and that Jainan himself may be a suspect, the unlikely pair must overcome their misgivings and learn to trust one another as they navigate the perils of the Iskat court, try to solve a murder, and prevent an interplanetary war... all while dealing with their growing feelings for each other.\"\n",
    "summaries_dict = add_summary(title=\"Winter's Orbit\", author=\"Everina Maxwell\", genre=\"Science Fiction\", summary=s)\n",
    "\n",
    "s=\"When a deadly Fly Flu sweeps the globe, it leaves a shell of the world that once was. Among the survivors are eighteen-year-old Nico and her dog, on a voyage devised by Nico's father to find a mythical portal; a young artist named Kit, raised in an old abandoned cinema; and the enigmatic Deliverer, who lives Life after Life in an attempt to put the world back together. As swarms of infected Flies roam the earth, these few survivors navigate the woods of post-apocalyptic New England, meeting others along the way, each on their own quest to find life and light in a world gone dark. The Electric Kingdom is a sweeping exploration of love, art, storytelling, eternal life, and above all, a testament to the notion that even in an exterminated world, one person might find beauty in another.\"\n",
    "summaries_dict = add_summary(title=\"The Electric Kingdom\", author=\"David Arnold\", genre=\"Young adult literature\", summary=s)\n",
    "\n",
    "s=\"One cold February evening in 1791, at the back of a dark London alley in a hidden apothecary shop, Nella awaits her newest customer. Once a respected healer, Nella now uses her knowledge for a darker purpose—selling well-disguised poisons to desperate women who would kill to be free of the men in their lives. But when her new patron turns out to be a precocious twelve-year-old named Eliza Fanning, an unexpected friendship sets in motion a string of events that jeopardizes Nella’s world and threatens to expose the many women whose names are written in her register. In present-day London, aspiring historian Caroline Parcewell spends her tenth wedding anniversary alone, reeling from the discovery of her husband’s infidelity. When she finds an old apothecary vial near the river Thames, she can’t resist investigating, only to realize she’s found a link to the unsolved “apothecary murders” that haunted London over two centuries ago. As she deepens her search, Caroline’s life collides with Nella’s and Eliza’s in a stunning twist of fate—and not everyone will survive.\"\n",
    "summaries_dict = add_summary(title=\"The Lost Apothecary\", author=\"Sarah Penner\", genre=\"Mystery\", summary=s)\n",
    "\n",
    "s=\"Theo Snyder is at the end of his rope. One minute he was on top of the world, his documentary film The Basement a massive critical and commercial hit, the next crestfallen when his latest film was canceled after an embarrassingly public misstep. As his desperation grows, he makes a bold decision: to pursue the story of the notorious 'Halo Killer,' Jasper Ross-Johnson. But delving into the life and mind of a serial killer could prove more deadly than Theo ever could have imagined.At first, things are looking up. Jasper is willing to talk, the footage of the jailhouse meetings is spectacular, and famed investigator Zora Neale Monroe joins him on the project. Theo is sure he's getting close to something no one else has discovered: the truth about why Jasper was captured before he could kill his final victim. Someone else was on the beach that day, someone who knows a lot more than they're telling and just might know how it all happened. The truth could lead to more killing--unless Theo can uncover the real ending to the story of the Halo Killer first.\"\n",
    "summaries_dict = add_summary(title=\"Let Her Lie\", author=\"Bryan Reardon\", genre=\"Suspense\", summary=s)\n",
    "\n",
    "s=\"A quest to explore some of the most spectacular ancient cities in human history—and figure out why people abandoned them. In Four Lost Cities, acclaimed science journalist Annalee Newitz takes readers on an entertaining and mind-bending adventure into the deep history of urban life. Investigating across the centuries and around the world, Newitz explores the rise and fall of four ancient cities, each the center of a sophisticated civilization: the Neolithic site of Çatalhöyük in Central Turkey, the Roman vacation town of Pompeii on Italy’s southern coast, the medieval megacity of Angkor in Cambodia, and the indigenous metropolis Cahokia, which stood beside the Mississippi River where East St. Louis is today.Newitz travels to all four sites and investigates the cutting-edge research in archaeology, revealing the mix of environmental changes and political turmoil that doomed these ancient settlements. Tracing the early development of urban planning, Newitz also introduces us to the often anonymous workers—slaves, women, immigrants, and manual laborers—who built these cities and created monuments that lasted millennia. Four Lost Cities is a journey into the forgotten past, but, foreseeing a future in which the majority of people on Earth will be living in cities, it may also reveal something of our own fate.\"\n",
    "summaries_dict = add_summary(title=\"Four Lost Cities: A Secret History of the Urban Age\", author=\"Annalee Newitz\", genre=\"Non-fiction\", summary=s)\n",
    "\n",
    "s=\"In this magical middle-grade novel, ten-year-old Gabrielle finds out that America isn’t the perfect place she imagined when she moves from Haiti to Brooklyn. With the help of a clever witch, Gabrielle becomes the perfect American -- but will she lose herself in the process? Perfect for fans of HURRICANE CHILD and FRONT DESK.It’s 1985 and ten-year-old Gabrielle is excited to be moving from Haiti to America. Unfortunately, her parents won’t be able to join her yet and she’ll be living in a place called Brooklyn, New York, with relatives she has never met. She promises her parents that she will behave, but life proves to be difficult in the United States, from learning the language to always feeling like she doesn’t fit in to being bullied. So when a witch offers her a chance to speak English perfectly and be “American,” she makes the deal. But soon she realizes how much she has given up by trying to fit in and, along with her two new friends (one of them a talking rat), takes on the witch in an epic battle to try to reverse the spell. Gabrielle is a funny and engaging heroine you won’t soon forget in this sweet and lyrical novel that’s perfect for fans of Hurricane Child and Front Desk.\"\n",
    "summaries_dict = add_summary(title=\"The Year I Flew Away\", author=\"Marie Arnold\", genre=\"Children's literature\", summary=s)\n",
    "\n",
    "s = \"Popular blogger offers readers strategies to avoid negative thought patterns, streamline decisions they're often prone to overthink, and proactively bring more peace, joy, and love into their lives. \"\n",
    "summaries_dict = add_summary(title=\"Don't Overthink It\", author=\"Anne Bogel\", genre=\"Non-fiction\", summary=s)\n",
    "\n",
    "s=\"IN THE YEAR 2044, reality is an ugly place. The only time teenage Wade Watts really feels alive is when he's jacked into the virtual utopia known as the OASIS. Wade's devoted his life to studying the puzzles hidden within this world's digital confines, puzzles that are based on their creator's obsession with the pop culture of decades past and that promise massive power and fortune to whoever can unlock them.But when Wade stumbles upon the first clue, he finds himself beset by players willing to kill to take this ultimate prize. The race is on, and if Wade's going to survive, he'll have to win—and confront the real world he's always been so desperate to escape.\"\n",
    "summaries_dict = add_summary(title=\"Ready Player One\", author=\"Ernest Cline\", genre=\"Speculative fiction\", summary=s)\n",
    "\n",
    "s=\"The year is 1327. Benedictines in a wealthy Italian abbey are suspected of heresy, and Brother William of Baskerville arrives to investigate. When his delicate mission is suddenly overshadowed by seven bizarre deaths, Brother William turns detective. His tools are the logic of Aristotle, the theology of Aquinas, the empirical insights of Roger Bacon—all sharpened to a glistening edge by wry humor and a ferocious curiosity. He collects evidence, deciphers secret symbols and coded manuscripts, and digs into the eerie labyrinth of the abbey, where the most interesting things happen at night.\"\n",
    "summaries_dict = add_summary(title=\"The Name of the Rose\", author=\"Umberto Eco\", genre=\"Crime Fiction\", summary=s)\n",
    "\n",
    "s=\"\"\n",
    "summaries_dict = add_summary(title=\"The Name of the Rose\", author=\"Umberto Eco\", genre=\"Crime Fiction\", summary=s)\n"
   ]
  },
  {
   "cell_type": "code",
   "execution_count": 5,
   "metadata": {
    "execution": {
     "iopub.execute_input": "2021-04-13T20:05:50.138874Z",
     "iopub.status.busy": "2021-04-13T20:05:50.138201Z",
     "iopub.status.idle": "2021-04-13T20:05:50.147828Z",
     "shell.execute_reply": "2021-04-13T20:05:50.147140Z"
    },
    "papermill": {
     "duration": 0.029423,
     "end_time": "2021-04-13T20:05:50.147989",
     "exception": false,
     "start_time": "2021-04-13T20:05:50.118566",
     "status": "completed"
    },
    "tags": []
   },
   "outputs": [],
   "source": [
    "summaries_df = pd.DataFrame.from_dict(summaries_dict)"
   ]
  },
  {
   "cell_type": "code",
   "execution_count": 6,
   "metadata": {
    "execution": {
     "iopub.execute_input": "2021-04-13T20:05:50.196615Z",
     "iopub.status.busy": "2021-04-13T20:05:50.195740Z",
     "iopub.status.idle": "2021-04-13T20:05:50.219895Z",
     "shell.execute_reply": "2021-04-13T20:05:50.220891Z"
    },
    "papermill": {
     "duration": 0.056161,
     "end_time": "2021-04-13T20:05:50.221133",
     "exception": false,
     "start_time": "2021-04-13T20:05:50.164972",
     "status": "completed"
    },
    "tags": []
   },
   "outputs": [
    {
     "data": {
      "text/html": [
       "<div>\n",
       "<style scoped>\n",
       "    .dataframe tbody tr th:only-of-type {\n",
       "        vertical-align: middle;\n",
       "    }\n",
       "\n",
       "    .dataframe tbody tr th {\n",
       "        vertical-align: top;\n",
       "    }\n",
       "\n",
       "    .dataframe thead th {\n",
       "        text-align: right;\n",
       "    }\n",
       "</style>\n",
       "<table border=\"1\" class=\"dataframe\">\n",
       "  <thead>\n",
       "    <tr style=\"text-align: right;\">\n",
       "      <th></th>\n",
       "      <th>title</th>\n",
       "      <th>author</th>\n",
       "      <th>genre</th>\n",
       "      <th>summary</th>\n",
       "    </tr>\n",
       "  </thead>\n",
       "  <tbody>\n",
       "    <tr>\n",
       "      <th>0</th>\n",
       "      <td>A Court of Silver Flames</td>\n",
       "      <td>Sarah J. Maas</td>\n",
       "      <td>Fantasy</td>\n",
       "      <td>Nesta Archeron has always been prickly-proud, ...</td>\n",
       "    </tr>\n",
       "    <tr>\n",
       "      <th>1</th>\n",
       "      <td>Winter's Orbit</td>\n",
       "      <td>Everina Maxwell</td>\n",
       "      <td>Science Fiction</td>\n",
       "      <td>While the Iskat Empire has long dominated the ...</td>\n",
       "    </tr>\n",
       "    <tr>\n",
       "      <th>2</th>\n",
       "      <td>The Electric Kingdom</td>\n",
       "      <td>David Arnold</td>\n",
       "      <td>Young adult literature</td>\n",
       "      <td>When a deadly Fly Flu sweeps the globe, it lea...</td>\n",
       "    </tr>\n",
       "    <tr>\n",
       "      <th>3</th>\n",
       "      <td>The Lost Apothecary</td>\n",
       "      <td>Sarah Penner</td>\n",
       "      <td>Mystery</td>\n",
       "      <td>One cold February evening in 1791, at the back...</td>\n",
       "    </tr>\n",
       "    <tr>\n",
       "      <th>4</th>\n",
       "      <td>Let Her Lie</td>\n",
       "      <td>Bryan Reardon</td>\n",
       "      <td>Suspense</td>\n",
       "      <td>Theo Snyder is at the end of his rope. One min...</td>\n",
       "    </tr>\n",
       "  </tbody>\n",
       "</table>\n",
       "</div>"
      ],
      "text/plain": [
       "                      title           author                   genre  \\\n",
       "0  A Court of Silver Flames    Sarah J. Maas                 Fantasy   \n",
       "1            Winter's Orbit  Everina Maxwell         Science Fiction   \n",
       "2      The Electric Kingdom     David Arnold  Young adult literature   \n",
       "3       The Lost Apothecary     Sarah Penner                 Mystery   \n",
       "4               Let Her Lie    Bryan Reardon                Suspense   \n",
       "\n",
       "                                             summary  \n",
       "0  Nesta Archeron has always been prickly-proud, ...  \n",
       "1  While the Iskat Empire has long dominated the ...  \n",
       "2  When a deadly Fly Flu sweeps the globe, it lea...  \n",
       "3  One cold February evening in 1791, at the back...  \n",
       "4  Theo Snyder is at the end of his rope. One min...  "
      ]
     },
     "execution_count": 6,
     "metadata": {},
     "output_type": "execute_result"
    }
   ],
   "source": [
    "summaries_df.head(5)"
   ]
  },
  {
   "cell_type": "code",
   "execution_count": 7,
   "metadata": {
    "execution": {
     "iopub.execute_input": "2021-04-13T20:05:50.262970Z",
     "iopub.status.busy": "2021-04-13T20:05:50.261956Z",
     "iopub.status.idle": "2021-04-13T20:05:50.270021Z",
     "shell.execute_reply": "2021-04-13T20:05:50.269417Z"
    },
    "papermill": {
     "duration": 0.030842,
     "end_time": "2021-04-13T20:05:50.270208",
     "exception": false,
     "start_time": "2021-04-13T20:05:50.239366",
     "status": "completed"
    },
    "tags": []
   },
   "outputs": [],
   "source": [
    "summaries_df.to_csv(path_or_buf='./summaries_for_testing.csv', header=summaries_dict.keys(), index=None)"
   ]
  },
  {
   "cell_type": "code",
   "execution_count": 8,
   "metadata": {
    "execution": {
     "iopub.execute_input": "2021-04-13T20:05:50.312433Z",
     "iopub.status.busy": "2021-04-13T20:05:50.311340Z",
     "iopub.status.idle": "2021-04-13T20:05:50.319044Z",
     "shell.execute_reply": "2021-04-13T20:05:50.318435Z"
    },
    "papermill": {
     "duration": 0.031022,
     "end_time": "2021-04-13T20:05:50.319247",
     "exception": false,
     "start_time": "2021-04-13T20:05:50.288225",
     "status": "completed"
    },
    "tags": []
   },
   "outputs": [],
   "source": [
    "df = pd.read_csv(filepath_or_buffer='summaries_for_testing.csv', header=0, names=['title','author','genre','summary'])"
   ]
  },
  {
   "cell_type": "code",
   "execution_count": 9,
   "metadata": {
    "execution": {
     "iopub.execute_input": "2021-04-13T20:05:50.370008Z",
     "iopub.status.busy": "2021-04-13T20:05:50.369152Z",
     "iopub.status.idle": "2021-04-13T20:05:50.374292Z",
     "shell.execute_reply": "2021-04-13T20:05:50.373670Z"
    },
    "papermill": {
     "duration": 0.03621,
     "end_time": "2021-04-13T20:05:50.374457",
     "exception": false,
     "start_time": "2021-04-13T20:05:50.338247",
     "status": "completed"
    },
    "tags": []
   },
   "outputs": [
    {
     "data": {
      "text/html": [
       "<div>\n",
       "<style scoped>\n",
       "    .dataframe tbody tr th:only-of-type {\n",
       "        vertical-align: middle;\n",
       "    }\n",
       "\n",
       "    .dataframe tbody tr th {\n",
       "        vertical-align: top;\n",
       "    }\n",
       "\n",
       "    .dataframe thead th {\n",
       "        text-align: right;\n",
       "    }\n",
       "</style>\n",
       "<table border=\"1\" class=\"dataframe\">\n",
       "  <thead>\n",
       "    <tr style=\"text-align: right;\">\n",
       "      <th></th>\n",
       "      <th>title</th>\n",
       "      <th>author</th>\n",
       "      <th>genre</th>\n",
       "      <th>summary</th>\n",
       "    </tr>\n",
       "  </thead>\n",
       "  <tbody>\n",
       "    <tr>\n",
       "      <th>0</th>\n",
       "      <td>A Court of Silver Flames</td>\n",
       "      <td>Sarah J. Maas</td>\n",
       "      <td>Fantasy</td>\n",
       "      <td>Nesta Archeron has always been prickly-proud, ...</td>\n",
       "    </tr>\n",
       "    <tr>\n",
       "      <th>1</th>\n",
       "      <td>Winter's Orbit</td>\n",
       "      <td>Everina Maxwell</td>\n",
       "      <td>Science Fiction</td>\n",
       "      <td>While the Iskat Empire has long dominated the ...</td>\n",
       "    </tr>\n",
       "    <tr>\n",
       "      <th>2</th>\n",
       "      <td>The Electric Kingdom</td>\n",
       "      <td>David Arnold</td>\n",
       "      <td>Young adult literature</td>\n",
       "      <td>When a deadly Fly Flu sweeps the globe, it lea...</td>\n",
       "    </tr>\n",
       "    <tr>\n",
       "      <th>3</th>\n",
       "      <td>The Lost Apothecary</td>\n",
       "      <td>Sarah Penner</td>\n",
       "      <td>Mystery</td>\n",
       "      <td>One cold February evening in 1791, at the back...</td>\n",
       "    </tr>\n",
       "    <tr>\n",
       "      <th>4</th>\n",
       "      <td>Let Her Lie</td>\n",
       "      <td>Bryan Reardon</td>\n",
       "      <td>Suspense</td>\n",
       "      <td>Theo Snyder is at the end of his rope. One min...</td>\n",
       "    </tr>\n",
       "  </tbody>\n",
       "</table>\n",
       "</div>"
      ],
      "text/plain": [
       "                      title           author                   genre  \\\n",
       "0  A Court of Silver Flames    Sarah J. Maas                 Fantasy   \n",
       "1            Winter's Orbit  Everina Maxwell         Science Fiction   \n",
       "2      The Electric Kingdom     David Arnold  Young adult literature   \n",
       "3       The Lost Apothecary     Sarah Penner                 Mystery   \n",
       "4               Let Her Lie    Bryan Reardon                Suspense   \n",
       "\n",
       "                                             summary  \n",
       "0  Nesta Archeron has always been prickly-proud, ...  \n",
       "1  While the Iskat Empire has long dominated the ...  \n",
       "2  When a deadly Fly Flu sweeps the globe, it lea...  \n",
       "3  One cold February evening in 1791, at the back...  \n",
       "4  Theo Snyder is at the end of his rope. One min...  "
      ]
     },
     "execution_count": 9,
     "metadata": {},
     "output_type": "execute_result"
    }
   ],
   "source": [
    "df.head()"
   ]
  },
  {
   "cell_type": "code",
   "execution_count": 10,
   "metadata": {
    "execution": {
     "iopub.execute_input": "2021-04-13T20:05:50.430467Z",
     "iopub.status.busy": "2021-04-13T20:05:50.416873Z",
     "iopub.status.idle": "2021-04-13T20:06:01.806657Z",
     "shell.execute_reply": "2021-04-13T20:06:01.805551Z"
    },
    "papermill": {
     "duration": 11.413811,
     "end_time": "2021-04-13T20:06:01.806823",
     "exception": false,
     "start_time": "2021-04-13T20:05:50.393012",
     "status": "completed"
    },
    "tags": []
   },
   "outputs": [
    {
     "name": "stdout",
     "output_type": "stream",
     "text": [
      "Collecting bs4\r\n",
      "  Downloading bs4-0.0.1.tar.gz (1.1 kB)\r\n",
      "Collecting beautifulsoup4\r\n",
      "  Downloading beautifulsoup4-4.9.3-py3-none-any.whl (115 kB)\r\n",
      "\u001b[K     |████████████████████████████████| 115 kB 1.2 MB/s \r\n",
      "\u001b[?25hCollecting soupsieve>1.2\r\n",
      "  Downloading soupsieve-2.2.1-py3-none-any.whl (33 kB)\r\n",
      "Building wheels for collected packages: bs4\r\n",
      "  Building wheel for bs4 (setup.py) ... \u001b[?25l-\b \b\\\b \bdone\r\n",
      "\u001b[?25h  Created wheel for bs4: filename=bs4-0.0.1-py3-none-any.whl size=1273 sha256=6653aaa6853b3a29e83bca99e29148d9cbb48b0eb23125361726a08336fa4099\r\n",
      "  Stored in directory: /root/.cache/pip/wheels/0a/9e/ba/20e5bbc1afef3a491f0b3bb74d508f99403aabe76eda2167ca\r\n",
      "Successfully built bs4\r\n",
      "Installing collected packages: soupsieve, beautifulsoup4, bs4\r\n",
      "Successfully installed beautifulsoup4-4.9.3 bs4-0.0.1 soupsieve-2.2.1\r\n"
     ]
    }
   ],
   "source": [
    "!pip install bs4"
   ]
  },
  {
   "cell_type": "code",
   "execution_count": 11,
   "metadata": {
    "execution": {
     "iopub.execute_input": "2021-04-13T20:06:01.864610Z",
     "iopub.status.busy": "2021-04-13T20:06:01.863839Z",
     "iopub.status.idle": "2021-04-13T20:06:02.030715Z",
     "shell.execute_reply": "2021-04-13T20:06:02.030025Z"
    },
    "papermill": {
     "duration": 0.201011,
     "end_time": "2021-04-13T20:06:02.030867",
     "exception": false,
     "start_time": "2021-04-13T20:06:01.829856",
     "status": "completed"
    },
    "tags": []
   },
   "outputs": [],
   "source": [
    "# https://github.com/OmarEinea/GoodReadsScraper\n",
    "from bs4 import BeautifulSoup\n",
    "import urllib.request\n",
    "import pandas as pd\n",
    "import time\n",
    "from requests import get\n",
    "\n",
    "\n",
    "hdr = {'User-Agent': 'Mozilla/5.0 (X11; Linux x86_64) AppleWebKit/537.11 (KHTML, like Gecko) Chrome/23.0.1271.64 Safari/537.11',\n",
    "       'Accept': 'text/html,application/xhtml+xml,application/xml;q=0.9,*/*;q=0.8',\n",
    "       'Referer': 'https://cssspritegenerator.com',\n",
    "       'Accept-Charset': 'ISO-8859-1,utf-8;q=0.7,*;q=0.3',\n",
    "       'Accept-Encoding': 'none',\n",
    "       'Accept-Language': 'en-US,en;q=0.8'}\n",
    "\n",
    "BASE_URL = 'https://www.goodreads.com'\n",
    "#LIST_URL = 'https://www.goodreads.com/list/show/1.Best_Books_Ever'\n",
    "LIST_URL = 'https://www.goodreads.com/list/show/264.Books_That_Everyone_Should_Read_At_Least_Once?'\n",
    "\n",
    "def load_list(base_url, list_url, num_pages, filename, hdr=hdr, start_page=1):\n",
    "    books = {'URL': []}\n",
    "\n",
    "    # the no. of pages this list has\n",
    "    #num_pages = num_pages\n",
    "    for i in range(start_page, num_pages):\n",
    "        time.sleep(10) #make sure you give enough time between page loads to not avoid server overload\n",
    "        #print(f'Reading page {i}...')\n",
    "        list_page_url = f'{list_url}&page={i}'\n",
    "        #print(list_page_url)\n",
    "        list_page = get(list_page_url, headers=hdr)\n",
    "        list_soup = BeautifulSoup(list_page.content, 'html.parser')\n",
    "        book_table = list_soup.find(\n",
    "            'table', attrs={'class': 'tableList js-dataTooltip'})\n",
    "        rows = book_table.find_all('tr')\n",
    "        books['URL'] += [BASE_URL +\n",
    "                         r.find('a', attrs={'class': 'bookTitle'}).attrs['href'] for r in rows]\n",
    "    books_df = pd.DataFrame.from_dict(books)\n",
    "    books_df.to_csv(filename)"
   ]
  },
  {
   "cell_type": "code",
   "execution_count": 12,
   "metadata": {
    "execution": {
     "iopub.execute_input": "2021-04-13T20:06:02.084873Z",
     "iopub.status.busy": "2021-04-13T20:06:02.084045Z",
     "iopub.status.idle": "2021-04-13T20:06:02.087580Z",
     "shell.execute_reply": "2021-04-13T20:06:02.086906Z"
    },
    "papermill": {
     "duration": 0.033247,
     "end_time": "2021-04-13T20:06:02.087728",
     "exception": false,
     "start_time": "2021-04-13T20:06:02.054481",
     "status": "completed"
    },
    "tags": []
   },
   "outputs": [],
   "source": [
    "import re\n",
    "import string\n",
    "from tqdm import tqdm\n",
    "def clean(summary):\n",
    "    #print(\"Here\")\n",
    "    #text = re.sub(r\"[^a-zA-Z0-9\\s]\",\"\", summary.lower())\n",
    "    table = str.maketrans(dict.fromkeys(string.punctuation))  # OR {key: None for key in string.punctuation}\n",
    "    text = summary.translate(table)\n",
    "    text =re.sub(r\"[^a-zA-Z0-9\\s]\",\"\",text.lower())\n",
    "    #print(\"Finished\")\n",
    "    return text"
   ]
  },
  {
   "cell_type": "code",
   "execution_count": 13,
   "metadata": {
    "execution": {
     "iopub.execute_input": "2021-04-13T20:06:02.151748Z",
     "iopub.status.busy": "2021-04-13T20:06:02.150931Z",
     "iopub.status.idle": "2021-04-13T20:06:02.154376Z",
     "shell.execute_reply": "2021-04-13T20:06:02.154852Z"
    },
    "papermill": {
     "duration": 0.043063,
     "end_time": "2021-04-13T20:06:02.155037",
     "exception": false,
     "start_time": "2021-04-13T20:06:02.111974",
     "status": "completed"
    },
    "tags": []
   },
   "outputs": [],
   "source": [
    "import os\n",
    "\n",
    "\n",
    "def load_data(book_list, filename, genre):\n",
    "    book_df = pd.DataFrame(columns=[\n",
    "            'book_title',\n",
    "            'book_authors',\n",
    "            'book_desc',\n",
    "            #'book_isbn',\n",
    "            'genres'\n",
    "    ], index=None)\n",
    "\n",
    "    books = pd.read_csv(book_list)\n",
    "    #book_df = pd.Dataframe()\n",
    "\n",
    "    book_rows = []\n",
    "    save_every = 20\n",
    "\n",
    "    for i in tqdm(range(len(books))):\n",
    "        #time.sleep(30)\n",
    "        try:\n",
    "            book_URL = books.at[i, 'URL']\n",
    "            #print(book_URL)\n",
    "            book_page = get(book_URL)\n",
    "            book_soup = BeautifulSoup(book_page.content, 'html.parser')\n",
    "\n",
    "            book = dict()\n",
    "    \n",
    "            # Title of the book\n",
    "            book_title = book_soup.find('h1', attrs={'id': 'bookTitle'})\n",
    "            if book_title:\n",
    "                book['book_title'] = book_title.text.replace('\\n', '').strip()\n",
    "            else:\n",
    "                book['book_title'] = ''\n",
    "\n",
    "            #print(i, book['book_title'])\n",
    "\n",
    "            # Author(s) of the book\n",
    "            book['book_authors'] = '|'.join([a.find('span', attrs={\n",
    "                                            'itemprop': 'name'}).text for a in book_soup.find_all('a', attrs={'class': 'authorName'})])\n",
    "\n",
    "            #print(i, book['book_authors'])\n",
    "            # A short description of the book, usually found on the back or inside cover of the book. Also called a blurb\n",
    "            book_desc = book_soup.find('div', attrs={'class': 'readable stacked'})\n",
    "            if book_desc:\n",
    "                book['book_desc'] = clean(book_desc.find_all('span')[-1].text)\n",
    "                #print(\"Cleaning finished!\")\n",
    "            else:\n",
    "                book['book_desc'] = ''\n",
    "\n",
    "            # ISBN code of the book\n",
    "            #book_isbn = book_soup.find('div', attrs={'id': 'bookDataBox'}).find(\n",
    "            #    'span', attrs={'itemprop': 'isbn'})\n",
    "            #if book_isbn:\n",
    "            #    book['book_isbn'] = book_isbn.text\n",
    "            #else:\n",
    "            #    book['book_isbn'] = ''\n",
    "\n",
    "            # List of genres that the book belongs to. User supplied data.\n",
    "            #genres_list = book_soup.find_all(\n",
    "            #        'a', attrs={'class': 'actionLinkLite bookPageGenreLink'})\n",
    "            book['genres'] = genre\n",
    "            #print(book)\n",
    "            #print(book['genres'])\n",
    "            #book_rows.append(book)\n",
    "            if save_every == 20:\n",
    "                book_df = book_df.append(book, ignore_index=True)\n",
    "                book_df.to_csv(filename, sep='\\t', index=False)\n",
    "                #print(\"Saved!\")\n",
    "            #book = pd.DataFrame.from_dict(book,orient='index')\n",
    "            #to_csv(book, ignore_index=True)\n",
    "            #print(len(book_df))\n",
    "\n",
    "                #if i % save_every == 0:\n",
    "                #    book_data.append(pd.DataFrame.from_dict(book_rows)).to_csv(\n",
    "                #        './test_data.csv', index=False)\n",
    "                #    book_rows = []\n",
    "        except:\n",
    "            print(\"Failed!\")\n",
    "            #book_df = book_df.to_csv(filename, sep='\\t', index=False)\n",
    "    book_df.to_csv(filename, sep='\\t', index=False)\n",
    "    print(\"Finished.\")"
   ]
  },
  {
   "cell_type": "code",
   "execution_count": 14,
   "metadata": {
    "execution": {
     "iopub.execute_input": "2021-04-13T20:06:02.207430Z",
     "iopub.status.busy": "2021-04-13T20:06:02.206613Z",
     "iopub.status.idle": "2021-04-13T20:06:02.210262Z",
     "shell.execute_reply": "2021-04-13T20:06:02.210834Z"
    },
    "papermill": {
     "duration": 0.03249,
     "end_time": "2021-04-13T20:06:02.211024",
     "exception": false,
     "start_time": "2021-04-13T20:06:02.178534",
     "status": "completed"
    },
    "tags": []
   },
   "outputs": [],
   "source": [
    "#Load non-fiction, about 1000\n",
    "#LIST_URL = 'https://www.goodreads.com/list/show/735.Must_Read_Non_Fiction?'\n",
    "#load_list(base_url=BASE_URL, list_url=LIST_URL, num_pages=15, filename='./non-fiction-book-list-2.csv', start_page=9)\n",
    "#load_data(book_list='./non-fiction-book-list-2.csv', filename='./non-fiction-2.csv', genre='Non-fiction')"
   ]
  },
  {
   "cell_type": "code",
   "execution_count": 15,
   "metadata": {
    "_kg_hide-input": false,
    "_kg_hide-output": false,
    "execution": {
     "iopub.execute_input": "2021-04-13T20:06:02.263960Z",
     "iopub.status.busy": "2021-04-13T20:06:02.263265Z",
     "iopub.status.idle": "2021-04-13T20:06:02.266768Z",
     "shell.execute_reply": "2021-04-13T20:06:02.266028Z"
    },
    "papermill": {
     "duration": 0.031895,
     "end_time": "2021-04-13T20:06:02.266924",
     "exception": false,
     "start_time": "2021-04-13T20:06:02.235029",
     "status": "completed"
    },
    "tags": []
   },
   "outputs": [],
   "source": [
    "#Mystery - 8\n",
    "#LIST_URL = 'https://www.goodreads.com/list/show/73283?'\n",
    "#load_list(base_url=BASE_URL, list_url=LIST_URL, num_pages=14, filename='./mystery-book-list-2.csv', start_page=9)\n",
    "#load_data(book_list='./mystery-book-list-2.csv', filename='./mystery-2.csv', genre='Mystery')"
   ]
  },
  {
   "cell_type": "code",
   "execution_count": 16,
   "metadata": {
    "execution": {
     "iopub.execute_input": "2021-04-13T20:06:02.318909Z",
     "iopub.status.busy": "2021-04-13T20:06:02.317949Z",
     "iopub.status.idle": "2021-04-13T20:06:02.321345Z",
     "shell.execute_reply": "2021-04-13T20:06:02.320742Z"
    },
    "papermill": {
     "duration": 0.031,
     "end_time": "2021-04-13T20:06:02.321492",
     "exception": false,
     "start_time": "2021-04-13T20:06:02.290492",
     "status": "completed"
    },
    "tags": []
   },
   "outputs": [],
   "source": [
    "#Young Adult Literature - 15\n",
    "#LIST_URL = 'https://www.goodreads.com/list/show/43.Best_Young_Adult_Books?'\n",
    "#load_list(base_url=BASE_URL, list_url=LIST_URL, num_pages=12, filename='./young-adult-book-list.csv')\n",
    "#load_data(book_list='./young-adult-book-list.csv', filename='./young-adult.csv', genre='Young adult literature')"
   ]
  },
  {
   "cell_type": "code",
   "execution_count": 17,
   "metadata": {
    "execution": {
     "iopub.execute_input": "2021-04-13T20:06:02.374499Z",
     "iopub.status.busy": "2021-04-13T20:06:02.373458Z",
     "iopub.status.idle": "2021-04-13T20:06:02.377321Z",
     "shell.execute_reply": "2021-04-13T20:06:02.377921Z"
    },
    "papermill": {
     "duration": 0.032792,
     "end_time": "2021-04-13T20:06:02.378142",
     "exception": false,
     "start_time": "2021-04-13T20:06:02.345350",
     "status": "completed"
    },
    "tags": []
   },
   "outputs": [],
   "source": [
    "### Children's -5\n",
    "#LIST_URL = 'https://www.goodreads.com/list/show/86.Best_Children_s_Books?'\n",
    "#load_list(base_url=BASE_URL, list_url=LIST_URL, num_pages=5, filename='./children-book-list.csv')\n",
    "#load_data(book_list='./children-book-list.csv', filename='./children.csv', genre='Children\\'s literature')"
   ]
  },
  {
   "cell_type": "code",
   "execution_count": 18,
   "metadata": {
    "execution": {
     "iopub.execute_input": "2021-04-13T20:06:02.430122Z",
     "iopub.status.busy": "2021-04-13T20:06:02.429428Z",
     "iopub.status.idle": "2021-04-13T20:06:02.432981Z",
     "shell.execute_reply": "2021-04-13T20:06:02.432314Z"
    },
    "papermill": {
     "duration": 0.031483,
     "end_time": "2021-04-13T20:06:02.433184",
     "exception": false,
     "start_time": "2021-04-13T20:06:02.401701",
     "status": "completed"
    },
    "tags": []
   },
   "outputs": [],
   "source": [
    "### Suspense-15\n",
    "#LIST_URL = 'https://www.goodreads.com/list/show/22553.Recommended_Thriller_Suspense?'\n",
    "#load_list(base_url=BASE_URL, list_url=LIST_URL, num_pages=12, filename='./suspense-book-list.csv')\n",
    "#load_data(book_list='./suspense-book-list.csv', filename='./suspense.csv', genre='Suspense')"
   ]
  },
  {
   "cell_type": "code",
   "execution_count": 19,
   "metadata": {
    "execution": {
     "iopub.execute_input": "2021-04-13T20:06:02.484824Z",
     "iopub.status.busy": "2021-04-13T20:06:02.484153Z",
     "iopub.status.idle": "2021-04-13T20:06:02.487365Z",
     "shell.execute_reply": "2021-04-13T20:06:02.487820Z"
    },
    "papermill": {
     "duration": 0.030868,
     "end_time": "2021-04-13T20:06:02.488018",
     "exception": false,
     "start_time": "2021-04-13T20:06:02.457150",
     "status": "completed"
    },
    "tags": []
   },
   "outputs": [],
   "source": [
    "#Crime-Fiction-10\n",
    "#LIST_URL = 'https://www.goodreads.com/list/show/3919.Best_Modern_Mystery_Crime_fiction?'\n",
    "#load_list(base_url=BASE_URL, list_url=LIST_URL, num_pages=14, filename='./crime-fiction-book-list-2.csv', start_page=11)\n",
    "#load_data(book_list='./crime-fiction-book-list-2.csv', filename='./crime-fiction-2.csv', genre='Crime Fiction')"
   ]
  },
  {
   "cell_type": "code",
   "execution_count": 20,
   "metadata": {
    "execution": {
     "iopub.execute_input": "2021-04-13T20:06:02.541211Z",
     "iopub.status.busy": "2021-04-13T20:06:02.540454Z",
     "iopub.status.idle": "2021-04-13T20:06:02.543965Z",
     "shell.execute_reply": "2021-04-13T20:06:02.544471Z"
    },
    "papermill": {
     "duration": 0.031495,
     "end_time": "2021-04-13T20:06:02.544671",
     "exception": false,
     "start_time": "2021-04-13T20:06:02.513176",
     "status": "completed"
    },
    "tags": []
   },
   "outputs": [],
   "source": [
    "#Science Fiction\n",
    "#LIST_URL = \"https://www.goodreads.com/list/show/4893.Best_Science_Fiction_of_the_21st_Century?\"\n",
    "#load_list(base_url=BASE_URL, list_url=LIST_URL, num_pages=12, filename='./science-fiction-book-list.csv')\n",
    "#load_data(book_list='./science-fiction-book-list.csv', filename='./science-fiction.csv', genre='Science Fiction')\n"
   ]
  },
  {
   "cell_type": "markdown",
   "metadata": {
    "papermill": {
     "duration": 0.024828,
     "end_time": "2021-04-13T20:06:02.594024",
     "exception": false,
     "start_time": "2021-04-13T20:06:02.569196",
     "status": "completed"
    },
    "tags": []
   },
   "source": [
    "From less to more\n",
    "* Non-Fiction\n",
    "* Crime fiction\n",
    "* Mystery\n",
    "* Young adult literature\n",
    "* Science Fiction\n",
    "* Suspense\n",
    "* Children's"
   ]
  },
  {
   "cell_type": "code",
   "execution_count": 21,
   "metadata": {
    "execution": {
     "iopub.execute_input": "2021-04-13T20:06:02.651718Z",
     "iopub.status.busy": "2021-04-13T20:06:02.651021Z",
     "iopub.status.idle": "2021-04-13T20:06:02.654428Z",
     "shell.execute_reply": "2021-04-13T20:06:02.654946Z"
    },
    "papermill": {
     "duration": 0.036918,
     "end_time": "2021-04-13T20:06:02.655142",
     "exception": false,
     "start_time": "2021-04-13T20:06:02.618224",
     "status": "completed"
    },
    "tags": []
   },
   "outputs": [],
   "source": [
    "main_df = pd.DataFrame(columns=['book_title', 'book_authors','book_desc','genres'])"
   ]
  },
  {
   "cell_type": "code",
   "execution_count": 22,
   "metadata": {
    "execution": {
     "iopub.execute_input": "2021-04-13T20:06:02.708924Z",
     "iopub.status.busy": "2021-04-13T20:06:02.708250Z",
     "iopub.status.idle": "2021-04-13T20:06:03.131190Z",
     "shell.execute_reply": "2021-04-13T20:06:03.131747Z"
    },
    "papermill": {
     "duration": 0.452029,
     "end_time": "2021-04-13T20:06:03.131948",
     "exception": false,
     "start_time": "2021-04-13T20:06:02.679919",
     "status": "completed"
    },
    "tags": []
   },
   "outputs": [
    {
     "name": "stdout",
     "output_type": "stream",
     "text": [
      "Non-fiction (1400, 4)\n",
      "Crime-fiction (2700, 4)\n",
      "-- Duplicates Crime-fiction (2470, 4)\n",
      "++Mystery (3770, 4)\n",
      "----Duplicates Mystery (3353, 4)\n",
      "++Young Adult (4553, 4)\n",
      "--Young-Adult (4397, 4)\n",
      "++Sci-Fi(5281, 4)\n",
      "--Sci-Fi (5154, 4)\n",
      "++Suspense(6354, 4)\n",
      "--Suspense (5851, 4)\n",
      "++Children (6351, 4)\n",
      "--Children (6155, 4)\n"
     ]
    },
    {
     "data": {
      "text/plain": [
       "genres\n",
       "Children's literature      303\n",
       "Crime Fiction             1176\n",
       "Mystery                    872\n",
       "Non-fiction               1257\n",
       "Science Fiction            755\n",
       "Suspense                   684\n",
       "Young adult literature    1042\n",
       "dtype: int64"
      ]
     },
     "execution_count": 22,
     "metadata": {},
     "output_type": "execute_result"
    }
   ],
   "source": [
    "\n",
    "main_df = main_df.append(pd.read_csv('../input/book-summaries-from-goodreads/non-fiction.csv', sep='\\t'))\n",
    "main_df = main_df.append(pd.read_csv('../input/book-summaries-from-goodreads/non-fiction-2.csv', sep='\\t'))\n",
    "print(\"Non-fiction {}\".format(main_df.shape))\n",
    "main_df = main_df.append(pd.read_csv('../input/book-summaries-from-goodreads/crime-fiction.csv', sep='\\t'))\n",
    "main_df = main_df.append(pd.read_csv('../input/book-summaries-from-goodreads/crime-fiction-2.csv', sep='\\t'))\n",
    "print(\"Crime-fiction {}\".format(main_df.shape))\n",
    "main_df.drop_duplicates(subset=['book_title'], inplace=True, keep='first')\n",
    "print(\"-- Duplicates Crime-fiction {}\".format(main_df.shape))\n",
    "main_df = main_df.append(pd.read_csv('../input/book-summaries-from-goodreads/mystery.csv', sep='\\t'))\n",
    "main_df = main_df.append(pd.read_csv('../input/book-summaries-from-goodreads/mystery-2.csv', sep='\\t'))\n",
    "print(\"++Mystery {}\".format(main_df.shape))\n",
    "main_df.drop_duplicates(subset=['book_title'], inplace=True, keep='first')\n",
    "print(\"----Duplicates Mystery {}\".format(main_df.shape))\n",
    "main_df = main_df.append(pd.read_csv('../input/book-summaries-from-goodreads/young-adult.csv', sep='\\t'))\n",
    "print(\"++Young Adult {}\".format(main_df.shape))\n",
    "main_df.drop_duplicates(subset=['book_title'], inplace=True, keep='first')\n",
    "print(\"--Young-Adult {}\".format(main_df.shape))\n",
    "main_df = main_df.append(pd.read_csv('../input/book-summaries-from-goodreads/science-fiction.csv', sep='\\t'))\n",
    "print(\"++Sci-Fi{}\".format(main_df.shape))\n",
    "main_df.drop_duplicates(subset=['book_title'], inplace=True, keep='first')\n",
    "print(\"--Sci-Fi {}\".format(main_df.shape))\n",
    "main_df = main_df.append(pd.read_csv('../input/book-summaries-from-goodreads/suspense.csv', sep='\\t'))\n",
    "print(\"++Suspense{}\".format(main_df.shape))\n",
    "main_df.drop_duplicates(subset=['book_title'], inplace=True, keep='first')\n",
    "print(\"--Suspense {}\".format(main_df.shape))\n",
    "main_df = main_df.append(pd.read_csv('../input/book-summaries-from-goodreads/children.csv', sep='\\t'))\n",
    "print(\"++Children {}\".format(main_df.shape))\n",
    "main_df.drop_duplicates(subset=['book_title'], inplace=True, keep='first')\n",
    "print(\"--Children {}\".format(main_df.shape))\n",
    "main_df.dropna(inplace=True)\n",
    "main_df.groupby('genres').size()"
   ]
  },
  {
   "cell_type": "code",
   "execution_count": 23,
   "metadata": {
    "execution": {
     "iopub.execute_input": "2021-04-13T20:06:03.202434Z",
     "iopub.status.busy": "2021-04-13T20:06:03.201407Z",
     "iopub.status.idle": "2021-04-13T20:06:03.492807Z",
     "shell.execute_reply": "2021-04-13T20:06:03.493505Z"
    },
    "papermill": {
     "duration": 0.323655,
     "end_time": "2021-04-13T20:06:03.493701",
     "exception": false,
     "start_time": "2021-04-13T20:06:03.170046",
     "status": "completed"
    },
    "tags": []
   },
   "outputs": [],
   "source": [
    "main_df.to_csv('./book_summaries_goodreads.csv', index=False)"
   ]
  },
  {
   "cell_type": "code",
   "execution_count": 24,
   "metadata": {
    "execution": {
     "iopub.execute_input": "2021-04-13T20:06:03.550275Z",
     "iopub.status.busy": "2021-04-13T20:06:03.549033Z",
     "iopub.status.idle": "2021-04-13T20:06:03.556993Z",
     "shell.execute_reply": "2021-04-13T20:06:03.557602Z"
    },
    "papermill": {
     "duration": 0.037707,
     "end_time": "2021-04-13T20:06:03.557794",
     "exception": false,
     "start_time": "2021-04-13T20:06:03.520087",
     "status": "completed"
    },
    "tags": []
   },
   "outputs": [
    {
     "data": {
      "text/plain": [
       "(6089, 4)"
      ]
     },
     "execution_count": 24,
     "metadata": {},
     "output_type": "execute_result"
    }
   ],
   "source": [
    "main_df.shape"
   ]
  }
 ],
 "metadata": {
  "kernelspec": {
   "display_name": "Python 3",
   "language": "python",
   "name": "python3"
  },
  "language_info": {
   "codemirror_mode": {
    "name": "ipython",
    "version": 3
   },
   "file_extension": ".py",
   "mimetype": "text/x-python",
   "name": "python",
   "nbconvert_exporter": "python",
   "pygments_lexer": "ipython3",
   "version": "3.7.9"
  },
  "papermill": {
   "default_parameters": {},
   "duration": 20.854081,
   "end_time": "2021-04-13T20:06:04.194360",
   "environment_variables": {},
   "exception": null,
   "input_path": "__notebook__.ipynb",
   "output_path": "__notebook__.ipynb",
   "parameters": {},
   "start_time": "2021-04-13T20:05:43.340279",
   "version": "2.2.2"
  }
 },
 "nbformat": 4,
 "nbformat_minor": 4
}
