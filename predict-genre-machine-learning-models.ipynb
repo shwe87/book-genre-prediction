{
 "cells": [
  {
   "cell_type": "markdown",
   "id": "registered-siemens",
   "metadata": {
    "papermill": {
     "duration": 0.04273,
     "end_time": "2021-04-16T12:19:47.045908",
     "exception": false,
     "start_time": "2021-04-16T12:19:47.003178",
     "status": "completed"
    },
    "tags": []
   },
   "source": [
    "# Book Genre Prediction from Plot Summaries\n",
    "\n",
    "This notebook was created to train and test different machine learning models using scki-learn library. The idea is to feed the deep learning model with book plot summaries and the models learns and predicts its genres.\n",
    "\n",
    "The book plot summaries used for this project was taken from http://www.cs.cmu.edu/~dbamman/booksummaries.html\n",
    "The environment used for training and testing was kaggle: https://www.kaggle.com/shwe87/\n",
    "\n"
   ]
  },
  {
   "cell_type": "code",
   "execution_count": 1,
   "id": "unsigned-payday",
   "metadata": {
    "execution": {
     "iopub.execute_input": "2021-04-16T12:19:47.130590Z",
     "iopub.status.busy": "2021-04-16T12:19:47.129303Z",
     "iopub.status.idle": "2021-04-16T12:19:47.133243Z",
     "shell.execute_reply": "2021-04-16T12:19:47.133729Z"
    },
    "papermill": {
     "duration": 0.047758,
     "end_time": "2021-04-16T12:19:47.134025",
     "exception": false,
     "start_time": "2021-04-16T12:19:47.086267",
     "status": "completed"
    },
    "tags": []
   },
   "outputs": [],
   "source": [
    "#pip install scikit-learn --upgrade"
   ]
  },
  {
   "cell_type": "code",
   "execution_count": 2,
   "id": "artistic-inspector",
   "metadata": {
    "_cell_guid": "b1076dfc-b9ad-4769-8c92-a6c4dae69d19",
    "_uuid": "8f2839f25d086af736a60e9eeb907d3b93b6e0e5",
    "execution": {
     "iopub.execute_input": "2021-04-16T12:19:47.223402Z",
     "iopub.status.busy": "2021-04-16T12:19:47.222612Z",
     "iopub.status.idle": "2021-04-16T12:19:49.040438Z",
     "shell.execute_reply": "2021-04-16T12:19:49.039642Z"
    },
    "papermill": {
     "duration": 1.866307,
     "end_time": "2021-04-16T12:19:49.040595",
     "exception": false,
     "start_time": "2021-04-16T12:19:47.174288",
     "status": "completed"
    },
    "tags": []
   },
   "outputs": [],
   "source": [
    "# This Python 3 environment comes with many helpful analytics libraries installed\n",
    "\n",
    "import numpy as np # linear algebra\n",
    "import pandas as pd # data processing, CSV file I/O (e.g. pd.read_csv)\n",
    "import os\n",
    "import csv\n",
    "import json\n",
    "import matplotlib.pyplot as plt \n",
    "import seaborn as sns\n",
    "from tqdm import tqdm\n",
    "from sklearn.feature_extraction.text import TfidfVectorizer\n",
    "from sklearn.svm import LinearSVC\n",
    "from sklearn.model_selection import train_test_split\n",
    "from sklearn.linear_model import LogisticRegression\n",
    "from sklearn.multiclass import OneVsRestClassifier\n",
    "import re\n",
    "# Performance metric\n",
    "from sklearn.metrics import f1_score\n",
    "from sklearn.metrics import precision_score\n",
    "from sklearn.metrics import recall_score\n",
    "from sklearn.pipeline import Pipeline\n",
    "from sklearn.naive_bayes import MultinomialNB\n",
    "from sklearn.metrics import accuracy_score\n",
    "from nltk.corpus import stopwords\n",
    "stop_words = set(stopwords.words('english'))\n",
    "import nltk\n",
    "\n",
    "import warnings\n",
    "warnings.simplefilter('ignore', UserWarning)"
   ]
  },
  {
   "cell_type": "markdown",
   "id": "regular-cooking",
   "metadata": {
    "papermill": {
     "duration": 0.0407,
     "end_time": "2021-04-16T12:19:49.121465",
     "exception": false,
     "start_time": "2021-04-16T12:19:49.080765",
     "status": "completed"
    },
    "tags": []
   },
   "source": [
    "# Data cleaning and analysis\n",
    "The first step is to understand the data and pre-process it and make it adequate for our neural network. The steps followed are:\n",
    "\n",
    "1. Read from the text file which contains all the book summaries, genre, author, book title, etc. and visualize the data and save it to a dataframe.\n",
    "2. Delete all the rows where the values for genre and summary are empty because these rows won't be any use for us.\n",
    "3. The values in column Genres are in json format, convert them to list format. Each book has been given more than one genre.\n",
    "4. To reduce complexity in the model, multilabel is discarded and will take in account only one label. To do so, a study was done to see which genres are the more frequent ones and only  these will be taken in account."
   ]
  },
  {
   "cell_type": "code",
   "execution_count": 3,
   "id": "marine-support",
   "metadata": {
    "execution": {
     "iopub.execute_input": "2021-04-16T12:19:49.212751Z",
     "iopub.status.busy": "2021-04-16T12:19:49.212054Z",
     "iopub.status.idle": "2021-04-16T12:19:50.127208Z",
     "shell.execute_reply": "2021-04-16T12:19:50.125677Z"
    },
    "papermill": {
     "duration": 0.96502,
     "end_time": "2021-04-16T12:19:50.127363",
     "exception": false,
     "start_time": "2021-04-16T12:19:49.162343",
     "status": "completed"
    },
    "tags": []
   },
   "outputs": [],
   "source": [
    "book_summary_df = pd.read_csv(\"../input/book-genre-prediction-data-preparation/book_summaries.csv\")"
   ]
  },
  {
   "cell_type": "markdown",
   "id": "bridal-analyst",
   "metadata": {
    "papermill": {
     "duration": 0.040323,
     "end_time": "2021-04-16T12:19:50.208442",
     "exception": false,
     "start_time": "2021-04-16T12:19:50.168119",
     "status": "completed"
    },
    "tags": []
   },
   "source": [
    "# Data Analysis\n",
    "In the following plot, Fiction is the genre with most plots. For this project, the first 10 genres with largest counts have been taken.\n",
    "\n",
    "As the neural network doesn't understand strings and will be feeding on numbers. Each of these genres have been encoded with a number & saved in a dictionary.\n",
    "\n",
    "1. Science Fiction\n",
    "2. Crime Fiction\n",
    "3. Fantasy\n",
    "4. Children's Literature\n",
    "5. Mystery\n",
    "6. Young adult literature\n",
    "7. Suspense\n",
    "8. Non-fiction"
   ]
  },
  {
   "cell_type": "code",
   "execution_count": 4,
   "id": "toxic-juvenile",
   "metadata": {
    "execution": {
     "iopub.execute_input": "2021-04-16T12:19:50.295910Z",
     "iopub.status.busy": "2021-04-16T12:19:50.294213Z",
     "iopub.status.idle": "2021-04-16T12:19:50.296588Z",
     "shell.execute_reply": "2021-04-16T12:19:50.297077Z"
    },
    "papermill": {
     "duration": 0.048202,
     "end_time": "2021-04-16T12:19:50.297240",
     "exception": false,
     "start_time": "2021-04-16T12:19:50.249038",
     "status": "completed"
    },
    "tags": []
   },
   "outputs": [],
   "source": [
    "valid_genres = [#'Speculative fiction',\n",
    "                'Science Fiction','Crime Fiction','Non-fiction','Children\\'s literature',\n",
    "                'Fantasy', 'Mystery', 'Suspense', 'Young adult literature']"
   ]
  },
  {
   "cell_type": "markdown",
   "id": "restricted-context",
   "metadata": {
    "papermill": {
     "duration": 0.040164,
     "end_time": "2021-04-16T12:19:50.378008",
     "exception": false,
     "start_time": "2021-04-16T12:19:50.337844",
     "status": "completed"
    },
    "tags": []
   },
   "source": [
    "# Cleaning\n",
    "\n",
    "As one book can have more than one valid labels, the duplicates are eliminated. For example, if a book \"Example\" had [\"Fiction\", \"Crime Fiction\", \"Novel\", \"Fantasy\"] then the cell above created four lines for each of these genres for the book \"Example\". In order to have only one genre per book (and not to confuse the neural network), the duplicates have been deleted and only the first occurrance has been saved.\n"
   ]
  },
  {
   "cell_type": "code",
   "execution_count": 5,
   "id": "prime-mainland",
   "metadata": {
    "execution": {
     "iopub.execute_input": "2021-04-16T12:19:50.490336Z",
     "iopub.status.busy": "2021-04-16T12:19:50.489656Z",
     "iopub.status.idle": "2021-04-16T12:19:50.699904Z",
     "shell.execute_reply": "2021-04-16T12:19:50.699242Z"
    },
    "papermill": {
     "duration": 0.281634,
     "end_time": "2021-04-16T12:19:50.700059",
     "exception": false,
     "start_time": "2021-04-16T12:19:50.418425",
     "status": "completed"
    },
    "tags": []
   },
   "outputs": [
    {
     "data": {
      "image/png": "[encoded data removed]",
      "text/plain": [
       "<Figure size 720x360 with 1 Axes>"
      ]
     },
     "metadata": {
      "needs_background": "light"
     },
     "output_type": "display_data"
    }
   ],
   "source": [
    "plt.figure(figsize=(10,5))\n",
    "sns.countplot(data=book_summary_df, order=book_summary_df.Genres.value_counts().index, y='Genres')\n",
    "plt.title(\"Counts per Genre\")\n",
    "plt.show()"
   ]
  },
  {
   "cell_type": "code",
   "execution_count": 6,
   "id": "blond-question",
   "metadata": {
    "execution": {
     "iopub.execute_input": "2021-04-16T12:19:50.801879Z",
     "iopub.status.busy": "2021-04-16T12:19:50.801199Z",
     "iopub.status.idle": "2021-04-16T12:19:50.803760Z",
     "shell.execute_reply": "2021-04-16T12:19:50.804258Z"
    },
    "papermill": {
     "duration": 0.062367,
     "end_time": "2021-04-16T12:19:50.804542",
     "exception": false,
     "start_time": "2021-04-16T12:19:50.742175",
     "status": "completed"
    },
    "tags": []
   },
   "outputs": [],
   "source": [
    "book_summary_df['String Counts'] = book_summary_df.Genres.str.len()"
   ]
  },
  {
   "cell_type": "code",
   "execution_count": 7,
   "id": "oriented-tobacco",
   "metadata": {
    "execution": {
     "iopub.execute_input": "2021-04-16T12:19:50.902564Z",
     "iopub.status.busy": "2021-04-16T12:19:50.901851Z",
     "iopub.status.idle": "2021-04-16T12:19:51.156854Z",
     "shell.execute_reply": "2021-04-16T12:19:51.157500Z"
    },
    "papermill": {
     "duration": 0.310311,
     "end_time": "2021-04-16T12:19:51.157678",
     "exception": false,
     "start_time": "2021-04-16T12:19:50.847367",
     "status": "completed"
    },
    "tags": []
   },
   "outputs": [
    {
     "data": {
      "image/png": "[encoded data removed]",
      "text/plain": [
       "<Figure size 720x360 with 1 Axes>"
      ]
     },
     "metadata": {
      "needs_background": "light"
     },
     "output_type": "display_data"
    }
   ],
   "source": [
    "plt.figure(figsize=(10,5))\n",
    "df = book_summary_df.groupby(['Genres'])['String Counts'].sum().reset_index()\n",
    "df.sort_values(['String Counts'], ascending=True).head(10).plot(kind='bar', y='String Counts', x='Genres',\n",
    "                legend=False, color=['tab:orange', 'tab:green', 'tab:blue', 'tab:brown', 'tab:pink', 'tab:purple','tab:red', 'tab:gray', 'tab:olive'], ax=plt.gca())\n",
    "plt.title(\"Total Words per Summary per Genre\")\n",
    "plt.show()"
   ]
  },
  {
   "cell_type": "markdown",
   "id": "consistent-police",
   "metadata": {
    "papermill": {
     "duration": 0.042631,
     "end_time": "2021-04-16T12:19:51.244522",
     "exception": false,
     "start_time": "2021-04-16T12:19:51.201891",
     "status": "completed"
    },
    "tags": []
   },
   "source": [
    "# Text Cleaning\n",
    "\n",
    "- Get rid of periods and puntuation as these won't be of any use to the neural network.\n",
    "- Turn all string to lowercase.\n"
   ]
  },
  {
   "cell_type": "code",
   "execution_count": 8,
   "id": "frequent-ending",
   "metadata": {
    "execution": {
     "iopub.execute_input": "2021-04-16T12:19:51.333988Z",
     "iopub.status.busy": "2021-04-16T12:19:51.333270Z",
     "iopub.status.idle": "2021-04-16T12:19:51.337915Z",
     "shell.execute_reply": "2021-04-16T12:19:51.338446Z"
    },
    "papermill": {
     "duration": 0.050581,
     "end_time": "2021-04-16T12:19:51.338615",
     "exception": false,
     "start_time": "2021-04-16T12:19:51.288034",
     "status": "completed"
    },
    "tags": []
   },
   "outputs": [],
   "source": [
    "import string\n",
    "def clean(summary):\n",
    "    table = str.maketrans(dict.fromkeys(string.punctuation))\n",
    "    text = summary.translate(table)\n",
    "    text = re.sub(r\"[^a-zA-Z0-9\\s]\",\" \", summary.lower())\n",
    "    return text"
   ]
  },
  {
   "cell_type": "code",
   "execution_count": 9,
   "id": "insured-plasma",
   "metadata": {
    "execution": {
     "iopub.execute_input": "2021-04-16T12:19:51.428176Z",
     "iopub.status.busy": "2021-04-16T12:19:51.427498Z",
     "iopub.status.idle": "2021-04-16T12:19:53.326500Z",
     "shell.execute_reply": "2021-04-16T12:19:53.325966Z"
    },
    "papermill": {
     "duration": 1.94498,
     "end_time": "2021-04-16T12:19:53.326640",
     "exception": false,
     "start_time": "2021-04-16T12:19:51.381660",
     "status": "completed"
    },
    "tags": []
   },
   "outputs": [
    {
     "data": {
      "text/html": [
       "<div>\n",
       "<style scoped>\n",
       "    .dataframe tbody tr th:only-of-type {\n",
       "        vertical-align: middle;\n",
       "    }\n",
       "\n",
       "    .dataframe tbody tr th {\n",
       "        vertical-align: top;\n",
       "    }\n",
       "\n",
       "    .dataframe thead th {\n",
       "        text-align: right;\n",
       "    }\n",
       "</style>\n",
       "<table border=\"1\" class=\"dataframe\">\n",
       "  <thead>\n",
       "    <tr style=\"text-align: right;\">\n",
       "      <th></th>\n",
       "      <th>Unnamed: 0</th>\n",
       "      <th>Book Title</th>\n",
       "      <th>Book Author</th>\n",
       "      <th>Summary</th>\n",
       "      <th>Genres</th>\n",
       "      <th>String Counts</th>\n",
       "    </tr>\n",
       "  </thead>\n",
       "  <tbody>\n",
       "    <tr>\n",
       "      <th>0</th>\n",
       "      <td>0</td>\n",
       "      <td>Animal Farm</td>\n",
       "      <td>George Orwell</td>\n",
       "      <td>old major  the old boar on the manor farm  ca...</td>\n",
       "      <td>Children's literature</td>\n",
       "      <td>21</td>\n",
       "    </tr>\n",
       "    <tr>\n",
       "      <th>1</th>\n",
       "      <td>1</td>\n",
       "      <td>A Clockwork Orange</td>\n",
       "      <td>Anthony Burgess</td>\n",
       "      <td>alex  a teenager living in near future englan...</td>\n",
       "      <td>Science Fiction</td>\n",
       "      <td>15</td>\n",
       "    </tr>\n",
       "    <tr>\n",
       "      <th>2</th>\n",
       "      <td>4</td>\n",
       "      <td>A Fire Upon the Deep</td>\n",
       "      <td>Vernor Vinge</td>\n",
       "      <td>the novel posits that space around the milky ...</td>\n",
       "      <td>Fantasy</td>\n",
       "      <td>7</td>\n",
       "    </tr>\n",
       "    <tr>\n",
       "      <th>3</th>\n",
       "      <td>6</td>\n",
       "      <td>A Wizard of Earthsea</td>\n",
       "      <td>Ursula K. Le Guin</td>\n",
       "      <td>ged is a young boy on gont  one of the larger...</td>\n",
       "      <td>Fantasy</td>\n",
       "      <td>7</td>\n",
       "    </tr>\n",
       "    <tr>\n",
       "      <th>4</th>\n",
       "      <td>8</td>\n",
       "      <td>Blade Runner 3: Replicant Night</td>\n",
       "      <td>K. W. Jeter</td>\n",
       "      <td>living on mars  deckard is acting as a consul...</td>\n",
       "      <td>Science Fiction</td>\n",
       "      <td>15</td>\n",
       "    </tr>\n",
       "  </tbody>\n",
       "</table>\n",
       "</div>"
      ],
      "text/plain": [
       "   Unnamed: 0                       Book Title        Book Author  \\\n",
       "0           0                      Animal Farm      George Orwell   \n",
       "1           1               A Clockwork Orange    Anthony Burgess   \n",
       "2           4             A Fire Upon the Deep       Vernor Vinge   \n",
       "3           6             A Wizard of Earthsea  Ursula K. Le Guin   \n",
       "4           8  Blade Runner 3: Replicant Night        K. W. Jeter   \n",
       "\n",
       "                                             Summary                 Genres  \\\n",
       "0   old major  the old boar on the manor farm  ca...  Children's literature   \n",
       "1   alex  a teenager living in near future englan...        Science Fiction   \n",
       "2   the novel posits that space around the milky ...                Fantasy   \n",
       "3   ged is a young boy on gont  one of the larger...                Fantasy   \n",
       "4   living on mars  deckard is acting as a consul...        Science Fiction   \n",
       "\n",
       "   String Counts  \n",
       "0             21  \n",
       "1             15  \n",
       "2              7  \n",
       "3              7  \n",
       "4             15  "
      ]
     },
     "execution_count": 9,
     "metadata": {},
     "output_type": "execute_result"
    }
   ],
   "source": [
    "book_summary_df['Summary'] = book_summary_df['Summary'].map(lambda summary : clean(summary))\n",
    "book_summary_df.head(5)"
   ]
  },
  {
   "cell_type": "markdown",
   "id": "cloudy-fault",
   "metadata": {
    "papermill": {
     "duration": 0.043435,
     "end_time": "2021-04-16T12:19:53.413918",
     "exception": false,
     "start_time": "2021-04-16T12:19:53.370483",
     "status": "completed"
    },
    "tags": []
   },
   "source": [
    "# Training, Validation and Test\n",
    "\n",
    "Split the data into training and testing sets.\n",
    "\n",
    "    Training data --> 80% of the total\n",
    "    Testing data --> 20% of the total\n",
    "\n"
   ]
  },
  {
   "cell_type": "code",
   "execution_count": 10,
   "id": "bored-collins",
   "metadata": {
    "execution": {
     "iopub.execute_input": "2021-04-16T12:19:53.523920Z",
     "iopub.status.busy": "2021-04-16T12:19:53.523273Z",
     "iopub.status.idle": "2021-04-16T12:19:54.021995Z",
     "shell.execute_reply": "2021-04-16T12:19:54.021465Z"
    },
    "papermill": {
     "duration": 0.564214,
     "end_time": "2021-04-16T12:19:54.022130",
     "exception": false,
     "start_time": "2021-04-16T12:19:53.457916",
     "status": "completed"
    },
    "tags": []
   },
   "outputs": [
    {
     "name": "stdout",
     "output_type": "stream",
     "text": [
      "Training dataset = 10886\n",
      "Testing dataset = 2722\n"
     ]
    },
    {
     "data": {
      "image/png": "[encoded data removed]",
      "text/plain": [
       "<Figure size 1800x576 with 2 Axes>"
      ]
     },
     "metadata": {
      "needs_background": "light"
     },
     "output_type": "display_data"
    }
   ],
   "source": [
    "#Split to train and test data\n",
    "train, test = train_test_split(book_summary_df, random_state=42, test_size=0.2, shuffle=True, stratify=book_summary_df['Genres'])\n",
    "\n",
    "train_x = train.Summary\n",
    "train_y = train.Genres\n",
    "test_x = test.Summary.to_numpy()\n",
    "test_y = test.Genres.to_numpy()\n",
    "test_titles = test['Book Title'].to_numpy()\n",
    "\n",
    "print(\"Training dataset = {}\".format(len(train_x)))\n",
    "print(\"Testing dataset = {}\".format(len(test_x)))\n",
    "\n",
    "colors=['tab:orange', 'tab:green', 'tab:blue', 'tab:brown', 'tab:pink', 'tab:purple','tab:red', 'tab:gray', 'tab:olive']\n",
    "plt.figure(figsize=(25,8))\n",
    "plt.subplot(1,2,1).set_title(\"Train Dataset-Counts per Genre\")\n",
    "train.groupby('Genres').size().sort_values(ascending=True).plot(kind='barh', color=colors,ax=plt.gca())\n",
    "plt.subplot(1,2,2).set_title(\"Test Dataset-Counts per Genre\")\n",
    "test.groupby('Genres').size().sort_values(ascending=True).plot(kind='barh', color=colors,ax=plt.gca())\n",
    "plt.show()"
   ]
  },
  {
   "cell_type": "markdown",
   "id": "higher-alexandria",
   "metadata": {
    "papermill": {
     "duration": 0.044393,
     "end_time": "2021-04-16T12:19:54.111288",
     "exception": false,
     "start_time": "2021-04-16T12:19:54.066895",
     "status": "completed"
    },
    "tags": []
   },
   "source": [
    "# Feature Extraction\n",
    "For all the models, TFIDF vectors have been used and he classifier used is the OneVsRestClassifier from the sklearn library."
   ]
  },
  {
   "cell_type": "code",
   "execution_count": 11,
   "id": "finished-scanner",
   "metadata": {
    "execution": {
     "iopub.execute_input": "2021-04-16T12:19:54.208071Z",
     "iopub.status.busy": "2021-04-16T12:19:54.207419Z",
     "iopub.status.idle": "2021-04-16T12:19:54.210740Z",
     "shell.execute_reply": "2021-04-16T12:19:54.210151Z"
    },
    "papermill": {
     "duration": 0.054593,
     "end_time": "2021-04-16T12:19:54.210887",
     "exception": false,
     "start_time": "2021-04-16T12:19:54.156294",
     "status": "completed"
    },
    "tags": []
   },
   "outputs": [],
   "source": [
    "import joblib\n",
    "from time import time\n",
    "# [training duration, testing duration, Test Accuracy\n",
    "\n",
    "benchmarks = {'NB' : [0.0, 0.0, 0.0],\n",
    "              'NB_tuned':  [0.0, 0.0, 0.0],\n",
    "              'SVC' :  [0.0, 0.0, 0.0],\n",
    "              'SVC_tuned':  [0.0, 0.0, 0.0],\n",
    "              'LR' :  [0.0, 0.0, 0.0],\n",
    "              'LR_tuned':  [0.0, 0.0, 0.0],\n",
    "                }"
   ]
  },
  {
   "cell_type": "code",
   "execution_count": 12,
   "id": "auburn-mayor",
   "metadata": {
    "execution": {
     "iopub.execute_input": "2021-04-16T12:19:54.306660Z",
     "iopub.status.busy": "2021-04-16T12:19:54.306011Z",
     "iopub.status.idle": "2021-04-16T12:19:54.309523Z",
     "shell.execute_reply": "2021-04-16T12:19:54.309010Z"
    },
    "papermill": {
     "duration": 0.053406,
     "end_time": "2021-04-16T12:19:54.309660",
     "exception": false,
     "start_time": "2021-04-16T12:19:54.256254",
     "status": "completed"
    },
    "tags": []
   },
   "outputs": [],
   "source": [
    "tfidf = TfidfVectorizer(stop_words=stop_words, ngram_range=(1,1), use_idf=True)"
   ]
  },
  {
   "cell_type": "markdown",
   "id": "structural-savage",
   "metadata": {
    "papermill": {
     "duration": 0.045837,
     "end_time": "2021-04-16T12:19:54.400984",
     "exception": false,
     "start_time": "2021-04-16T12:19:54.355147",
     "status": "completed"
    },
    "tags": []
   },
   "source": [
    "# Model 1: Naive Bayes\n",
    "\n",
    "## Results\n",
    "\n",
    "* ngram=(1,5) -- Test Accuracy of 0.429 --\n",
    "* ngram=(1,2) -- Test Accuracy of 0.491 -- 0.284\n",
    "* ngram=(1,3) -- Test Accuracy of 0.459 -- \n",
    "* ngram=(1,1) -- Test Accuracy of 0.575 -- 0.372"
   ]
  },
  {
   "cell_type": "code",
   "execution_count": 13,
   "id": "handled-moscow",
   "metadata": {
    "execution": {
     "iopub.execute_input": "2021-04-16T12:19:54.533953Z",
     "iopub.status.busy": "2021-04-16T12:19:54.517844Z",
     "iopub.status.idle": "2021-04-16T12:20:04.593759Z",
     "shell.execute_reply": "2021-04-16T12:20:04.593061Z"
    },
    "papermill": {
     "duration": 10.147246,
     "end_time": "2021-04-16T12:20:04.593919",
     "exception": false,
     "start_time": "2021-04-16T12:19:54.446673",
     "status": "completed"
    },
    "tags": []
   },
   "outputs": [
    {
     "name": "stdout",
     "output_type": "stream",
     "text": [
      "Training took 0.070 [seconds] to complete and has been saved as ./NB_model.sav\n",
      "####Before tuning:####\n",
      "Train Accuracy : 0.824\n",
      "Test Accuracy : 0.555\n"
     ]
    }
   ],
   "source": [
    "# Define a pipeline combining a text feature extractor with multi class classifier\n",
    "t0 = time()\n",
    "NB_pipeline = Pipeline([\n",
    "                ('tfidf', TfidfVectorizer(stop_words=stop_words, ngram_range=(1,1), use_idf=True)),\n",
    "                ('clf', OneVsRestClassifier(MultinomialNB())),\n",
    "            ])\n",
    "NB_pipeline.fit(train_x, train_y)\n",
    "benchmarks['NB'][0] = (time() - t0)/60\n",
    "filename = \"./NB_model.sav\"\n",
    "joblib.dump(NB_pipeline, filename)\n",
    "print(\"Training took {:.3f} [seconds] to complete and has been saved as {}\".format(benchmarks['NB'][0],filename))\n",
    "print(\"####Before tuning:####\")\n",
    "print('Train Accuracy : %.3f'%NB_pipeline.score(train_x, train_y))\n",
    "print('Test Accuracy : %.3f'%NB_pipeline.score(test_x, test_y))"
   ]
  },
  {
   "cell_type": "markdown",
   "id": "manufactured-nomination",
   "metadata": {
    "papermill": {
     "duration": 0.047207,
     "end_time": "2021-04-16T12:20:04.687918",
     "exception": false,
     "start_time": "2021-04-16T12:20:04.640711",
     "status": "completed"
    },
    "tags": []
   },
   "source": [
    "## Tune the model\n",
    "Tune the model to get the best accuracy."
   ]
  },
  {
   "cell_type": "code",
   "execution_count": 14,
   "id": "least-chart",
   "metadata": {
    "execution": {
     "iopub.execute_input": "2021-04-16T12:20:04.787433Z",
     "iopub.status.busy": "2021-04-16T12:20:04.786759Z",
     "iopub.status.idle": "2021-04-16T12:20:04.791621Z",
     "shell.execute_reply": "2021-04-16T12:20:04.791093Z"
    },
    "papermill": {
     "duration": 0.056977,
     "end_time": "2021-04-16T12:20:04.791754",
     "exception": false,
     "start_time": "2021-04-16T12:20:04.734777",
     "status": "completed"
    },
    "tags": []
   },
   "outputs": [
    {
     "data": {
      "text/plain": [
       "dict_keys(['memory', 'steps', 'verbose', 'tfidf', 'clf', 'tfidf__analyzer', 'tfidf__binary', 'tfidf__decode_error', 'tfidf__dtype', 'tfidf__encoding', 'tfidf__input', 'tfidf__lowercase', 'tfidf__max_df', 'tfidf__max_features', 'tfidf__min_df', 'tfidf__ngram_range', 'tfidf__norm', 'tfidf__preprocessor', 'tfidf__smooth_idf', 'tfidf__stop_words', 'tfidf__strip_accents', 'tfidf__sublinear_tf', 'tfidf__token_pattern', 'tfidf__tokenizer', 'tfidf__use_idf', 'tfidf__vocabulary', 'clf__estimator__alpha', 'clf__estimator__class_prior', 'clf__estimator__fit_prior', 'clf__estimator', 'clf__n_jobs'])"
      ]
     },
     "execution_count": 14,
     "metadata": {},
     "output_type": "execute_result"
    }
   ],
   "source": [
    "NB_pipeline.get_params().keys()"
   ]
  },
  {
   "cell_type": "code",
   "execution_count": 15,
   "id": "structured-digit",
   "metadata": {
    "execution": {
     "iopub.execute_input": "2021-04-16T12:20:04.890630Z",
     "iopub.status.busy": "2021-04-16T12:20:04.890012Z",
     "iopub.status.idle": "2021-04-16T12:20:04.892891Z",
     "shell.execute_reply": "2021-04-16T12:20:04.892394Z"
    },
    "papermill": {
     "duration": 0.054061,
     "end_time": "2021-04-16T12:20:04.893085",
     "exception": false,
     "start_time": "2021-04-16T12:20:04.839024",
     "status": "completed"
    },
    "tags": []
   },
   "outputs": [],
   "source": [
    "from sklearn.model_selection import GridSearchCV"
   ]
  },
  {
   "cell_type": "code",
   "execution_count": 16,
   "id": "proper-grammar",
   "metadata": {
    "execution": {
     "iopub.execute_input": "2021-04-16T12:20:05.006103Z",
     "iopub.status.busy": "2021-04-16T12:20:05.005363Z",
     "iopub.status.idle": "2021-04-16T12:22:55.708004Z",
     "shell.execute_reply": "2021-04-16T12:22:55.706960Z"
    },
    "papermill": {
     "duration": 170.767895,
     "end_time": "2021-04-16T12:22:55.708180",
     "exception": false,
     "start_time": "2021-04-16T12:20:04.940285",
     "status": "completed"
    },
    "tags": []
   },
   "outputs": [
    {
     "name": "stdout",
     "output_type": "stream",
     "text": [
      "Fitting 5 folds for each of 20 candidates, totalling 100 fits\n"
     ]
    }
   ],
   "source": [
    "t0 = time()\n",
    "parameters = {    \n",
    "    'tfidf__use_idf': (True, False),\n",
    "    #'tfidf__lowercase': (True, False), \n",
    "    'tfidf__norm': ('l1', 'l2'),  \n",
    "    'clf__estimator__alpha': (1, 0.1, 0.01, 0.001, 0.0001)  \n",
    "     }\n",
    "NB_grid = GridSearchCV(NB_pipeline, param_grid=parameters, n_jobs=-1, verbose=5)\n",
    "NB_grid.fit(train_x, train_y)\n",
    "#print(\"Training took: {:.2f} \".format(time() - t0))\n",
    "benchmarks['NB_tuned'][0] = (time() - t0)/60"
   ]
  },
  {
   "cell_type": "code",
   "execution_count": 17,
   "id": "defensive-essay",
   "metadata": {
    "execution": {
     "iopub.execute_input": "2021-04-16T12:22:55.810460Z",
     "iopub.status.busy": "2021-04-16T12:22:55.809820Z",
     "iopub.status.idle": "2021-04-16T12:22:57.864376Z",
     "shell.execute_reply": "2021-04-16T12:22:57.863699Z"
    },
    "papermill": {
     "duration": 2.107586,
     "end_time": "2021-04-16T12:22:57.864519",
     "exception": false,
     "start_time": "2021-04-16T12:22:55.756933",
     "status": "completed"
    },
    "tags": []
   },
   "outputs": [
    {
     "name": "stdout",
     "output_type": "stream",
     "text": [
      "Best Parameters :  {'clf__estimator__alpha': 0.01, 'tfidf__norm': 'l2', 'tfidf__use_idf': False}\n",
      "Training took: 0.047[minutes] to complete and has been saved as ./NB_tuned_model.sav\n"
     ]
    }
   ],
   "source": [
    "filename = \"./NB_tuned_model.sav\"\n",
    "joblib.dump(NB_grid, filename)\n",
    "print('Best Parameters : ',NB_grid.best_params_)\n",
    "print(\"Training took: {:.3f}[minutes] to complete and has been saved as {}\".format(benchmarks['NB_tuned'][0]/60,filename))"
   ]
  },
  {
   "cell_type": "code",
   "execution_count": 18,
   "id": "wicked-fossil",
   "metadata": {
    "execution": {
     "iopub.execute_input": "2021-04-16T12:22:58.039345Z",
     "iopub.status.busy": "2021-04-16T12:22:58.033697Z",
     "iopub.status.idle": "2021-04-16T12:23:02.765833Z",
     "shell.execute_reply": "2021-04-16T12:23:02.766982Z"
    },
    "papermill": {
     "duration": 4.838988,
     "end_time": "2021-04-16T12:23:02.767224",
     "exception": false,
     "start_time": "2021-04-16T12:22:57.928236",
     "status": "completed"
    },
    "tags": []
   },
   "outputs": [
    {
     "name": "stdout",
     "output_type": "stream",
     "text": [
      "####After tuning:####\n",
      "Train Accuracy : 0.975\n",
      "Test Accuracy : 0.626\n"
     ]
    }
   ],
   "source": [
    "print(\"####After tuning:####\")\n",
    "print('Train Accuracy : %.3f'%NB_grid.best_estimator_.score(train_x, train_y))\n",
    "print('Test Accuracy : %.3f'%NB_grid.best_estimator_.score(test_x, test_y))"
   ]
  },
  {
   "cell_type": "markdown",
   "id": "fossil-optimum",
   "metadata": {
    "papermill": {
     "duration": 0.050411,
     "end_time": "2021-04-16T12:23:02.868065",
     "exception": false,
     "start_time": "2021-04-16T12:23:02.817654",
     "status": "completed"
    },
    "tags": []
   },
   "source": [
    "# Model 2: Support Vector Classification\n",
    "## Results\n",
    "* ngram=(1,1) -- TA = 0.628\n",
    "* ngram=(1,2) -- TA = 0.635\n",
    "* ngram=(1,3) -- TA = 0.632\n",
    "* ngram=(1,4) -- TA = 0.628 -- 83[seconds]"
   ]
  },
  {
   "cell_type": "code",
   "execution_count": 19,
   "id": "balanced-while",
   "metadata": {
    "execution": {
     "iopub.execute_input": "2021-04-16T12:23:03.013130Z",
     "iopub.status.busy": "2021-04-16T12:23:03.007717Z",
     "iopub.status.idle": "2021-04-16T12:23:43.920206Z",
     "shell.execute_reply": "2021-04-16T12:23:43.920716Z"
    },
    "papermill": {
     "duration": 41.003274,
     "end_time": "2021-04-16T12:23:43.920909",
     "exception": false,
     "start_time": "2021-04-16T12:23:02.917635",
     "status": "completed"
    },
    "tags": []
   },
   "outputs": [
    {
     "name": "stdout",
     "output_type": "stream",
     "text": [
      "Training took: 0.394[seconds] to complete and has been saved as ./SVC_model.sav\n"
     ]
    }
   ],
   "source": [
    "t0 = time()\n",
    "SVC_pipeline = Pipeline([\n",
    "                ('tfidf', TfidfVectorizer(stop_words=stop_words, ngram_range=(1,2))),\n",
    "                ('clf', OneVsRestClassifier(LinearSVC(), n_jobs=1)),\n",
    "            ])\n",
    "SVC_pipeline.fit(train_x, train_y)\n",
    "benchmarks['SVC'][0] = (time() - t0)/60\n",
    "#print(\"Training complete! Saving trained model....\")\n",
    "filename = \"./SVC_model.sav\"\n",
    "joblib.dump(SVC_pipeline, filename)\n",
    "print(\"Training took: {:.3f}[seconds] to complete and has been saved as {}\".format(benchmarks['SVC'][0],filename))"
   ]
  },
  {
   "cell_type": "code",
   "execution_count": 20,
   "id": "aware-moses",
   "metadata": {
    "execution": {
     "iopub.execute_input": "2021-04-16T12:23:44.032345Z",
     "iopub.status.busy": "2021-04-16T12:23:44.031626Z",
     "iopub.status.idle": "2021-04-16T12:23:53.080102Z",
     "shell.execute_reply": "2021-04-16T12:23:53.079569Z"
    },
    "papermill": {
     "duration": 9.109932,
     "end_time": "2021-04-16T12:23:53.080257",
     "exception": false,
     "start_time": "2021-04-16T12:23:43.970325",
     "status": "completed"
    },
    "tags": []
   },
   "outputs": [
    {
     "name": "stdout",
     "output_type": "stream",
     "text": [
      "####Before tuning:####\n",
      "Train Accuracy : 0.999\n",
      "Test Accuracy : 0.640\n"
     ]
    }
   ],
   "source": [
    "print(\"####Before tuning:####\")\n",
    "print('Train Accuracy : %.3f'%SVC_pipeline.score(train_x, train_y))\n",
    "print('Test Accuracy : %.3f'%SVC_pipeline.score(test_x, test_y))"
   ]
  },
  {
   "cell_type": "markdown",
   "id": "multiple-underwear",
   "metadata": {
    "papermill": {
     "duration": 0.052331,
     "end_time": "2021-04-16T12:23:53.183741",
     "exception": false,
     "start_time": "2021-04-16T12:23:53.131410",
     "status": "completed"
    },
    "tags": []
   },
   "source": [
    "## Tuning for SVC\n",
    "\n",
    "SVC model doesn't need any tuning because the train and test accuracy score are already quite near to the desired output."
   ]
  },
  {
   "cell_type": "markdown",
   "id": "helpful-scotland",
   "metadata": {
    "papermill": {
     "duration": 0.05052,
     "end_time": "2021-04-16T12:23:53.286566",
     "exception": false,
     "start_time": "2021-04-16T12:23:53.236046",
     "status": "completed"
    },
    "tags": []
   },
   "source": [
    "With ngram=(1,2)\n",
    "\n",
    "Best Parameters :  {'clf__estimator__fit_intercept': True, 'tfidf__ngram_range': (1, 2), 'tfidf__use_idf': True}\n",
    "Training took: 8.658[minutes] to complete and has been saved as ./SVC_tuned_model.sav\n",
    "####After tuning:####\n",
    "Train Accuracy : 0.999\n",
    "Test Accuracy : 0.635"
   ]
  },
  {
   "cell_type": "code",
   "execution_count": 21,
   "id": "accomplished-repository",
   "metadata": {
    "execution": {
     "iopub.execute_input": "2021-04-16T12:23:53.393873Z",
     "iopub.status.busy": "2021-04-16T12:23:53.393220Z",
     "iopub.status.idle": "2021-04-16T12:23:53.397667Z",
     "shell.execute_reply": "2021-04-16T12:23:53.397003Z"
    },
    "papermill": {
     "duration": 0.060824,
     "end_time": "2021-04-16T12:23:53.397841",
     "exception": false,
     "start_time": "2021-04-16T12:23:53.337017",
     "status": "completed"
    },
    "tags": []
   },
   "outputs": [
    {
     "data": {
      "text/plain": [
       "dict_keys(['memory', 'steps', 'verbose', 'tfidf', 'clf', 'tfidf__analyzer', 'tfidf__binary', 'tfidf__decode_error', 'tfidf__dtype', 'tfidf__encoding', 'tfidf__input', 'tfidf__lowercase', 'tfidf__max_df', 'tfidf__max_features', 'tfidf__min_df', 'tfidf__ngram_range', 'tfidf__norm', 'tfidf__preprocessor', 'tfidf__smooth_idf', 'tfidf__stop_words', 'tfidf__strip_accents', 'tfidf__sublinear_tf', 'tfidf__token_pattern', 'tfidf__tokenizer', 'tfidf__use_idf', 'tfidf__vocabulary', 'clf__estimator__C', 'clf__estimator__class_weight', 'clf__estimator__dual', 'clf__estimator__fit_intercept', 'clf__estimator__intercept_scaling', 'clf__estimator__loss', 'clf__estimator__max_iter', 'clf__estimator__multi_class', 'clf__estimator__penalty', 'clf__estimator__random_state', 'clf__estimator__tol', 'clf__estimator__verbose', 'clf__estimator', 'clf__n_jobs'])"
      ]
     },
     "execution_count": 21,
     "metadata": {},
     "output_type": "execute_result"
    }
   ],
   "source": [
    "SVC_pipeline.get_params().keys()"
   ]
  },
  {
   "cell_type": "code",
   "execution_count": 22,
   "id": "domestic-commerce",
   "metadata": {
    "execution": {
     "iopub.execute_input": "2021-04-16T12:23:53.522013Z",
     "iopub.status.busy": "2021-04-16T12:23:53.521314Z",
     "iopub.status.idle": "2021-04-16T13:54:12.855857Z",
     "shell.execute_reply": "2021-04-16T13:54:12.855261Z"
    },
    "papermill": {
     "duration": 5419.405579,
     "end_time": "2021-04-16T13:54:12.856076",
     "exception": false,
     "start_time": "2021-04-16T12:23:53.450497",
     "status": "completed"
    },
    "tags": []
   },
   "outputs": [
    {
     "name": "stdout",
     "output_type": "stream",
     "text": [
      "Fitting 5 folds for each of 192 candidates, totalling 960 fits\n"
     ]
    }
   ],
   "source": [
    "t0 = time()\n",
    "parameters = {\n",
    "              'tfidf__use_idf': (True, False),\n",
    "              'tfidf__max_df': [0.3, 0.5, 0.8, 1.0],\n",
    "              'clf__estimator__loss' : ['hinge', 'squared_hinge'],\n",
    "              #'tfidf__ngram_range': [(1,1), (1,2),(1,3)],\n",
    "              'clf__estimator__penalty' : [\"l1\", \"l2\"],\n",
    "              'clf__estimator__fit_intercept': [True, False],\n",
    "              'clf__estimator__C': [0.01, 1.0, 2.0]\n",
    "              #'clf__estimator__solver': ('newton-cg', 'sag','saga','lbfgs')\n",
    "             }\n",
    "SVC_grid = GridSearchCV(SVC_pipeline,param_grid=parameters, n_jobs=-1, verbose=5)\n",
    "SVC_grid.fit(train_x, train_y)\n",
    "#print(\"Training took: {:.2f} \".format(time() - t0))\n",
    "benchmarks['SVC_tuned'][0] = (time() - t0)/60"
   ]
  },
  {
   "cell_type": "code",
   "execution_count": 23,
   "id": "affected-start",
   "metadata": {
    "execution": {
     "iopub.execute_input": "2021-04-16T13:54:12.969942Z",
     "iopub.status.busy": "2021-04-16T13:54:12.969302Z",
     "iopub.status.idle": "2021-04-16T13:54:55.554388Z",
     "shell.execute_reply": "2021-04-16T13:54:55.554904Z"
    },
    "papermill": {
     "duration": 42.645922,
     "end_time": "2021-04-16T13:54:55.555082",
     "exception": false,
     "start_time": "2021-04-16T13:54:12.909160",
     "status": "completed"
    },
    "tags": []
   },
   "outputs": [
    {
     "name": "stdout",
     "output_type": "stream",
     "text": [
      "Best Parameters :  {'clf__estimator__C': 2.0, 'clf__estimator__fit_intercept': True, 'clf__estimator__loss': 'hinge', 'clf__estimator__penalty': 'l2', 'tfidf__max_df': 0.3, 'tfidf__use_idf': True}\n",
      "Training took: 1.505[minutes] to complete and has been saved as ./SVC_tuned_model.sav\n",
      "####After tuning:####\n",
      "Train Accuracy : 0.999\n",
      "Test Accuracy : 0.641\n"
     ]
    }
   ],
   "source": [
    "filename = \"./SVC_tuned_model.sav\"\n",
    "joblib.dump(SVC_grid, filename)\n",
    "print('Best Parameters : ',SVC_grid.best_params_)\n",
    "print(\"Training took: {:.3f}[minutes] to complete and has been saved as {}\".format(benchmarks['SVC_tuned'][0]/60,filename))\n",
    "print(\"####After tuning:####\")\n",
    "print('Train Accuracy : %.3f'%SVC_grid.best_estimator_.score(train_x, train_y))\n",
    "print('Test Accuracy : %.3f'%SVC_grid.best_estimator_.score(test_x, test_y))"
   ]
  },
  {
   "cell_type": "markdown",
   "id": "close-nicaragua",
   "metadata": {
    "papermill": {
     "duration": 0.052777,
     "end_time": "2021-04-16T13:54:55.660657",
     "exception": false,
     "start_time": "2021-04-16T13:54:55.607880",
     "status": "completed"
    },
    "tags": []
   },
   "source": [
    "Output of the above cell:\n",
    "\n",
    "Best Parameters :\n",
    "* {'clf__estimator__C': 2.0, \n",
    "* 'clf__estimator__fit_intercept': True,\n",
    "* 'clf__estimator__loss': 'squared_hinge',\n",
    "* 'clf__estimator__penalty': 'l2',\n",
    "* 'tfidf__max_df': 0.5,\n",
    "* 'tfidf__use_idf': True}\n",
    "\n",
    "\n",
    "Training took: 94.708[minutes] to complete and has been saved as ./SVC_tuned_model.sav\n",
    "\n",
    "####After tuning:####\n",
    "* Train Accuracy : 0.999\n",
    "* Test Accuracy : 0.641\n"
   ]
  },
  {
   "cell_type": "markdown",
   "id": "american-forge",
   "metadata": {
    "papermill": {
     "duration": 0.108335,
     "end_time": "2021-04-16T13:54:55.822238",
     "exception": false,
     "start_time": "2021-04-16T13:54:55.713903",
     "status": "completed"
    },
    "tags": []
   },
   "source": [
    "# Model 3: Logistic Regression"
   ]
  },
  {
   "cell_type": "markdown",
   "id": "broad-municipality",
   "metadata": {
    "papermill": {
     "duration": 0.053804,
     "end_time": "2021-04-16T13:54:55.929015",
     "exception": false,
     "start_time": "2021-04-16T13:54:55.875211",
     "status": "completed"
    },
    "tags": []
   },
   "source": [
    "## Results\n",
    "* ngram=(1,1) -- TA=0.625 8[s]\n",
    "* ngram=(1,2) -- TA=0.612    39[s]\n",
    "* ngram=(1,3) -- TA= 0.593 73[seconds]"
   ]
  },
  {
   "cell_type": "code",
   "execution_count": 24,
   "id": "renewable-skiing",
   "metadata": {
    "execution": {
     "iopub.execute_input": "2021-04-16T13:54:56.038979Z",
     "iopub.status.busy": "2021-04-16T13:54:56.038274Z",
     "iopub.status.idle": "2021-04-16T13:55:09.447664Z",
     "shell.execute_reply": "2021-04-16T13:55:09.448214Z"
    },
    "papermill": {
     "duration": 13.466063,
     "end_time": "2021-04-16T13:55:09.448386",
     "exception": false,
     "start_time": "2021-04-16T13:54:55.982323",
     "status": "completed"
    },
    "tags": []
   },
   "outputs": [
    {
     "name": "stdout",
     "output_type": "stream",
     "text": [
      "Training took: 0.129[seconds] to complete and has been saved as ./LogReg_model.sav\n",
      "####Before tuning:####\n",
      "Train Accuracy : 0.880\n",
      "Test Accuracy : 0.625\n"
     ]
    }
   ],
   "source": [
    "t0 = time()\n",
    "LogReg_pipeline = Pipeline([\n",
    "                ('tfidf', TfidfVectorizer(stop_words=stop_words, ngram_range=(1,1))),\n",
    "                ('clf', OneVsRestClassifier(LogisticRegression(solver='liblinear'), n_jobs=1)),\n",
    "            ])\n",
    "LogReg_pipeline.fit(train_x, train_y)\n",
    "benchmarks['LR'][0] = (time() - t0)/60\n",
    "#print(\"Training complete! Saving trained model....\")\n",
    "filename = \"./LogReg_model.sav\"\n",
    "joblib.dump(LogReg_pipeline, filename)\n",
    "print(\"Training took: {:.3f}[seconds] to complete and has been saved as {}\".format(benchmarks['LR'][0],filename))\n",
    "print(\"####Before tuning:####\")\n",
    "print('Train Accuracy : %.3f'%LogReg_pipeline.score(train_x, train_y))\n",
    "print('Test Accuracy : %.3f'%LogReg_pipeline.score(test_x, test_y))"
   ]
  },
  {
   "cell_type": "markdown",
   "id": "potential-freeze",
   "metadata": {
    "papermill": {
     "duration": 0.406618,
     "end_time": "2021-04-16T13:55:09.911525",
     "exception": false,
     "start_time": "2021-04-16T13:55:09.504907",
     "status": "completed"
    },
    "tags": []
   },
   "source": [
    "## With solver as sag -- No changes\n",
    "* ngram=(1,1) -- TA = 0.625 8[seconds]\n",
    "* ngram = (1,2) -- TA = 0.612\n",
    "* ngram = (1,3) -- TA = -- 0.593 70[seconds]!!"
   ]
  },
  {
   "cell_type": "code",
   "execution_count": 25,
   "id": "organizational-liberia",
   "metadata": {
    "execution": {
     "iopub.execute_input": "2021-04-16T13:55:10.057869Z",
     "iopub.status.busy": "2021-04-16T13:55:10.051936Z",
     "iopub.status.idle": "2021-04-16T13:55:23.723160Z",
     "shell.execute_reply": "2021-04-16T13:55:23.722575Z"
    },
    "papermill": {
     "duration": 13.757537,
     "end_time": "2021-04-16T13:55:23.723303",
     "exception": false,
     "start_time": "2021-04-16T13:55:09.965766",
     "status": "completed"
    },
    "tags": []
   },
   "outputs": [
    {
     "name": "stdout",
     "output_type": "stream",
     "text": [
      "Training took: 0.134[seconds] to complete and has been saved as ./LogReg_model.sav\n",
      "####Before tuning:####\n",
      "Train Accuracy : 0.880\n",
      "Test Accuracy : 0.625\n"
     ]
    }
   ],
   "source": [
    "#TfidfVectorizer(stop_words=stop_words, ngram_range=(1,3))\n",
    "t0 = time()\n",
    "LogReg_pipeline = Pipeline([\n",
    "                ('tfidf', TfidfVectorizer(stop_words=stop_words, ngram_range=(1,1))),\n",
    "                ('clf', OneVsRestClassifier(LogisticRegression(solver='sag'), n_jobs=1)),\n",
    "            ])\n",
    "LogReg_pipeline.fit(train_x, train_y)\n",
    "benchmarks['LR'][0] = (time() - t0)/60\n",
    "#print(\"Training complete! Saving trained model....\")\n",
    "filename = \"./LogReg_model.sav\"\n",
    "joblib.dump(LogReg_pipeline, filename)\n",
    "print(\"Training took: {:.3f}[seconds] to complete and has been saved as {}\".format(benchmarks['LR'][0],filename))\n",
    "print(\"####Before tuning:####\")\n",
    "print('Train Accuracy : %.3f'%LogReg_pipeline.score(train_x, train_y))\n",
    "print('Test Accuracy : %.3f'%LogReg_pipeline.score(test_x, test_y))"
   ]
  },
  {
   "cell_type": "code",
   "execution_count": 26,
   "id": "developmental-hartford",
   "metadata": {
    "execution": {
     "iopub.execute_input": "2021-04-16T13:55:23.839919Z",
     "iopub.status.busy": "2021-04-16T13:55:23.838896Z",
     "iopub.status.idle": "2021-04-16T13:55:23.842215Z",
     "shell.execute_reply": "2021-04-16T13:55:23.842711Z"
    },
    "papermill": {
     "duration": 0.064593,
     "end_time": "2021-04-16T13:55:23.842906",
     "exception": false,
     "start_time": "2021-04-16T13:55:23.778313",
     "status": "completed"
    },
    "tags": []
   },
   "outputs": [
    {
     "data": {
      "text/plain": [
       "dict_keys(['memory', 'steps', 'verbose', 'tfidf', 'clf', 'tfidf__analyzer', 'tfidf__binary', 'tfidf__decode_error', 'tfidf__dtype', 'tfidf__encoding', 'tfidf__input', 'tfidf__lowercase', 'tfidf__max_df', 'tfidf__max_features', 'tfidf__min_df', 'tfidf__ngram_range', 'tfidf__norm', 'tfidf__preprocessor', 'tfidf__smooth_idf', 'tfidf__stop_words', 'tfidf__strip_accents', 'tfidf__sublinear_tf', 'tfidf__token_pattern', 'tfidf__tokenizer', 'tfidf__use_idf', 'tfidf__vocabulary', 'clf__estimator__C', 'clf__estimator__class_weight', 'clf__estimator__dual', 'clf__estimator__fit_intercept', 'clf__estimator__intercept_scaling', 'clf__estimator__l1_ratio', 'clf__estimator__max_iter', 'clf__estimator__multi_class', 'clf__estimator__n_jobs', 'clf__estimator__penalty', 'clf__estimator__random_state', 'clf__estimator__solver', 'clf__estimator__tol', 'clf__estimator__verbose', 'clf__estimator__warm_start', 'clf__estimator', 'clf__n_jobs'])"
      ]
     },
     "execution_count": 26,
     "metadata": {},
     "output_type": "execute_result"
    }
   ],
   "source": [
    "LogReg_pipeline.get_params().keys()"
   ]
  },
  {
   "cell_type": "code",
   "execution_count": 27,
   "id": "bigger-plant",
   "metadata": {
    "execution": {
     "iopub.execute_input": "2021-04-16T13:55:23.972384Z",
     "iopub.status.busy": "2021-04-16T13:55:23.971607Z",
     "iopub.status.idle": "2021-04-16T15:01:19.013211Z",
     "shell.execute_reply": "2021-04-16T15:01:19.014357Z"
    },
    "papermill": {
     "duration": 3955.116906,
     "end_time": "2021-04-16T15:01:19.014976",
     "exception": false,
     "start_time": "2021-04-16T13:55:23.898070",
     "status": "completed"
    },
    "tags": []
   },
   "outputs": [
    {
     "name": "stdout",
     "output_type": "stream",
     "text": [
      "Fitting 5 folds for each of 192 candidates, totalling 960 fits\n"
     ]
    }
   ],
   "source": [
    "t0 = time()\n",
    "parameters = {'clf__estimator__penalty' : ['l1', 'l2', 'elasticnet', 'none'],\n",
    "              'tfidf__use_idf': (True, False),\n",
    "              #'tfidf__max_df': [0.3, 0.5, 0.8, 1.0],\n",
    "              'clf__estimator__fit_intercept': [True, False],\n",
    "              'clf__estimator__C': [0.01, 1.0, 2.0],\n",
    "              #'clf__estimator__max_iter': [25]\n",
    "              'clf__estimator__solver': ('newton-cg', 'sag','saga','lbfgs')\n",
    "             }\n",
    "LogReg_grid = GridSearchCV(LogReg_pipeline,param_grid=parameters, n_jobs=-1, verbose=5)\n",
    "LogReg_grid.fit(train_x, train_y)\n",
    "#print(\"Training took: {:.2f} \".format(time() - t0))\n",
    "benchmarks['LR_tuned'][0] = (time() - t0)/60"
   ]
  },
  {
   "cell_type": "code",
   "execution_count": 28,
   "id": "opposed-initial",
   "metadata": {
    "execution": {
     "iopub.execute_input": "2021-04-16T15:01:19.188950Z",
     "iopub.status.busy": "2021-04-16T15:01:19.187872Z",
     "iopub.status.idle": "2021-04-16T15:01:21.402617Z",
     "shell.execute_reply": "2021-04-16T15:01:21.402017Z"
    },
    "papermill": {
     "duration": 2.283906,
     "end_time": "2021-04-16T15:01:21.402770",
     "exception": false,
     "start_time": "2021-04-16T15:01:19.118864",
     "status": "completed"
    },
    "tags": []
   },
   "outputs": [
    {
     "name": "stdout",
     "output_type": "stream",
     "text": [
      "Best Parameters :  {'clf__estimator__C': 2.0, 'clf__estimator__fit_intercept': True, 'clf__estimator__penalty': 'l2', 'clf__estimator__solver': 'lbfgs', 'tfidf__use_idf': True}\n",
      "Training took: 1.099[minutes] to complete and has been saved as ./LR_tuned_model.sav\n"
     ]
    }
   ],
   "source": [
    "filename = \"./LR_tuned_model.sav\"\n",
    "joblib.dump(LogReg_grid, filename)\n",
    "print('Best Parameters : ',LogReg_grid.best_params_)\n",
    "print(\"Training took: {:.3f}[minutes] to complete and has been saved as {}\".format(benchmarks['LR_tuned'][0]/60,filename))"
   ]
  },
  {
   "cell_type": "code",
   "execution_count": 29,
   "id": "opposed-tomato",
   "metadata": {
    "execution": {
     "iopub.execute_input": "2021-04-16T15:01:21.546312Z",
     "iopub.status.busy": "2021-04-16T15:01:21.540932Z",
     "iopub.status.idle": "2021-04-16T15:01:26.365930Z",
     "shell.execute_reply": "2021-04-16T15:01:26.366423Z"
    },
    "papermill": {
     "duration": 4.904918,
     "end_time": "2021-04-16T15:01:26.366602",
     "exception": false,
     "start_time": "2021-04-16T15:01:21.461684",
     "status": "completed"
    },
    "tags": []
   },
   "outputs": [
    {
     "name": "stdout",
     "output_type": "stream",
     "text": [
      "####After tuning:####\n",
      "Train Accuracy : 0.940\n",
      "Test Accuracy : 0.633\n"
     ]
    }
   ],
   "source": [
    "print(\"####After tuning:####\")\n",
    "print('Train Accuracy : %.3f'%LogReg_grid.best_estimator_.score(train_x, train_y))\n",
    "print('Test Accuracy : %.3f'%LogReg_grid.best_estimator_.score(test_x, test_y))"
   ]
  },
  {
   "cell_type": "markdown",
   "id": "innocent-import",
   "metadata": {
    "papermill": {
     "duration": 0.058975,
     "end_time": "2021-04-16T15:01:26.482832",
     "exception": false,
     "start_time": "2021-04-16T15:01:26.423857",
     "status": "completed"
    },
    "tags": []
   },
   "source": [
    "Training with Decision Tree:\n",
    "Training took: 1102.355[seconds] to complete and has been saved as ./DTC_model.sav\n",
    "####Before tuning:####\n",
    "Train Accuracy : 0.999\n",
    "Test Accuracy : 0.331\n",
    "\n",
    "DTC_pipeline = Pipeline([\n",
    "                ('tfidf', TfidfVectorizer(stop_words=stop_words, ngram_range=(1,3))),\n",
    "                ('clf', OneVsRestClassifier(DecisionTreeClassifier(), n_jobs=-1)),\n",
    "            ])"
   ]
  },
  {
   "cell_type": "markdown",
   "id": "ongoing-explanation",
   "metadata": {
    "papermill": {
     "duration": 0.05738,
     "end_time": "2021-04-16T15:01:26.597795",
     "exception": false,
     "start_time": "2021-04-16T15:01:26.540415",
     "status": "completed"
    },
    "tags": []
   },
   "source": [
    "# Test Models\n",
    "Test the trained models with validation data."
   ]
  },
  {
   "cell_type": "code",
   "execution_count": 30,
   "id": "crucial-inside",
   "metadata": {
    "execution": {
     "iopub.execute_input": "2021-04-16T15:01:26.719529Z",
     "iopub.status.busy": "2021-04-16T15:01:26.718851Z",
     "iopub.status.idle": "2021-04-16T15:01:26.722435Z",
     "shell.execute_reply": "2021-04-16T15:01:26.721765Z"
    },
    "papermill": {
     "duration": 0.067415,
     "end_time": "2021-04-16T15:01:26.722580",
     "exception": false,
     "start_time": "2021-04-16T15:01:26.655165",
     "status": "completed"
    },
    "tags": []
   },
   "outputs": [],
   "source": [
    "def save_benchmarks(estimator, estimator_name,x, y, benchmarks):\n",
    "    t0 = time()\n",
    "    pred = estimator.predict(test_x)\n",
    "    benchmarks[estimator_name][1] = (time() - t0)/60\n",
    "    benchmarks[estimator_name][2] = accuracy_score(y, pred)*100"
   ]
  },
  {
   "cell_type": "code",
   "execution_count": 31,
   "id": "attended-watershed",
   "metadata": {
    "execution": {
     "iopub.execute_input": "2021-04-16T15:01:26.850588Z",
     "iopub.status.busy": "2021-04-16T15:01:26.849552Z",
     "iopub.status.idle": "2021-04-16T15:01:34.797042Z",
     "shell.execute_reply": "2021-04-16T15:01:34.796458Z"
    },
    "papermill": {
     "duration": 8.015566,
     "end_time": "2021-04-16T15:01:34.797186",
     "exception": false,
     "start_time": "2021-04-16T15:01:26.781620",
     "status": "completed"
    },
    "tags": []
   },
   "outputs": [
    {
     "name": "stdout",
     "output_type": "stream",
     "text": [
      "Benchmaks created!\n"
     ]
    }
   ],
   "source": [
    "#NB\n",
    "save_benchmarks(estimator=NB_pipeline, estimator_name='NB', x=test_x, y=test_y, benchmarks=benchmarks)\n",
    "save_benchmarks(estimator=NB_grid.best_estimator_, estimator_name='NB_tuned', x=test_x, y=test_y, benchmarks=benchmarks)\n",
    "#LR\n",
    "save_benchmarks(estimator=LogReg_pipeline, estimator_name='LR', x=test_x, y=test_y, benchmarks=benchmarks)\n",
    "save_benchmarks(estimator=LogReg_grid.best_estimator_, estimator_name='LR_tuned', x=test_x, y=test_y, benchmarks=benchmarks)\n",
    "#SVC\n",
    "save_benchmarks(estimator=SVC_pipeline, estimator_name='SVC', x=test_x, y=test_y, benchmarks=benchmarks)\n",
    "save_benchmarks(estimator=SVC_grid.best_estimator_, estimator_name='SVC_tuned', x=test_x, y=test_y, benchmarks=benchmarks)\n",
    "print(\"Benchmaks created!\")"
   ]
  },
  {
   "cell_type": "code",
   "execution_count": 32,
   "id": "dirty-version",
   "metadata": {
    "execution": {
     "iopub.execute_input": "2021-04-16T15:01:34.929333Z",
     "iopub.status.busy": "2021-04-16T15:01:34.928622Z",
     "iopub.status.idle": "2021-04-16T15:01:34.934328Z",
     "shell.execute_reply": "2021-04-16T15:01:34.933669Z"
    },
    "papermill": {
     "duration": 0.078287,
     "end_time": "2021-04-16T15:01:34.934485",
     "exception": false,
     "start_time": "2021-04-16T15:01:34.856198",
     "status": "completed"
    },
    "tags": []
   },
   "outputs": [
    {
     "data": {
      "text/html": [
       "<div>\n",
       "<style scoped>\n",
       "    .dataframe tbody tr th:only-of-type {\n",
       "        vertical-align: middle;\n",
       "    }\n",
       "\n",
       "    .dataframe tbody tr th {\n",
       "        vertical-align: top;\n",
       "    }\n",
       "\n",
       "    .dataframe thead th {\n",
       "        text-align: right;\n",
       "    }\n",
       "</style>\n",
       "<table border=\"1\" class=\"dataframe\">\n",
       "  <thead>\n",
       "    <tr style=\"text-align: right;\">\n",
       "      <th></th>\n",
       "      <th>Trained Duration[m]</th>\n",
       "      <th>Testing Duration[m]</th>\n",
       "      <th>Accuracy(%)</th>\n",
       "    </tr>\n",
       "    <tr>\n",
       "      <th>Models</th>\n",
       "      <th></th>\n",
       "      <th></th>\n",
       "      <th></th>\n",
       "    </tr>\n",
       "  </thead>\n",
       "  <tbody>\n",
       "    <tr>\n",
       "      <th>NB</th>\n",
       "      <td>0.070424</td>\n",
       "      <td>0.016258</td>\n",
       "      <td>55.547392</td>\n",
       "    </tr>\n",
       "    <tr>\n",
       "      <th>NB_tuned</th>\n",
       "      <td>2.845161</td>\n",
       "      <td>0.016388</td>\n",
       "      <td>62.637766</td>\n",
       "    </tr>\n",
       "    <tr>\n",
       "      <th>SVC</th>\n",
       "      <td>0.394362</td>\n",
       "      <td>0.028475</td>\n",
       "      <td>64.033799</td>\n",
       "    </tr>\n",
       "    <tr>\n",
       "      <th>SVC_tuned</th>\n",
       "      <td>90.322383</td>\n",
       "      <td>0.038774</td>\n",
       "      <td>64.144012</td>\n",
       "    </tr>\n",
       "    <tr>\n",
       "      <th>LR</th>\n",
       "      <td>0.133835</td>\n",
       "      <td>0.016189</td>\n",
       "      <td>62.527553</td>\n",
       "    </tr>\n",
       "    <tr>\n",
       "      <th>LR_tuned</th>\n",
       "      <td>65.917469</td>\n",
       "      <td>0.015956</td>\n",
       "      <td>63.335783</td>\n",
       "    </tr>\n",
       "  </tbody>\n",
       "</table>\n",
       "</div>"
      ],
      "text/plain": [
       "           Trained Duration[m]  Testing Duration[m]  Accuracy(%)\n",
       "Models                                                          \n",
       "NB                    0.070424             0.016258    55.547392\n",
       "NB_tuned              2.845161             0.016388    62.637766\n",
       "SVC                   0.394362             0.028475    64.033799\n",
       "SVC_tuned            90.322383             0.038774    64.144012\n",
       "LR                    0.133835             0.016189    62.527553\n",
       "LR_tuned             65.917469             0.015956    63.335783"
      ]
     },
     "execution_count": 32,
     "metadata": {},
     "output_type": "execute_result"
    }
   ],
   "source": [
    "df = pd.DataFrame.from_dict(benchmarks, orient='index',columns=['Trained Duration[m]', 'Testing Duration[m]', 'Accuracy(%)'])\n",
    "df.index.rename('Models', inplace=True)\n",
    "df"
   ]
  },
  {
   "cell_type": "code",
   "execution_count": 33,
   "id": "technical-whole",
   "metadata": {
    "execution": {
     "iopub.execute_input": "2021-04-16T15:01:35.063370Z",
     "iopub.status.busy": "2021-04-16T15:01:35.062676Z",
     "iopub.status.idle": "2021-04-16T15:01:35.065249Z",
     "shell.execute_reply": "2021-04-16T15:01:35.065777Z"
    },
    "papermill": {
     "duration": 0.071016,
     "end_time": "2021-04-16T15:01:35.065973",
     "exception": false,
     "start_time": "2021-04-16T15:01:34.994957",
     "status": "completed"
    },
    "tags": []
   },
   "outputs": [],
   "source": [
    "def save_print_results(pred, labels, titles, save_file):\n",
    "    print('##########################################\\n#\\tTest accuracy is {:.4f}%\\t#\\n##########################################'.format(accuracy_score(test_y, \n",
    "    pred)*100))\n",
    "    pred_dict = {'titles':[],\n",
    "                 'genres': [],\n",
    "                 'prediction': [],\n",
    "                'result':[]\n",
    "                }\n",
    "    for i in range(len(labels)):\n",
    "        if (labels[i] == pred[i]):\n",
    "            prediction = 'Correct'\n",
    "        else:\n",
    "            prediction = 'Wrong'\n",
    "        pred_dict['titles'].append(titles[i])\n",
    "        pred_dict['genres'].append(labels[i])\n",
    "        pred_dict['prediction'].append(pred[i])\n",
    "        pred_dict['result'].append(prediction)\n",
    "    pred_df = pd.DataFrame.from_dict(pred_dict)\n",
    "    #Save to csv file\n",
    "    pred_df.to_csv(save_file)\n",
    "    return pred_df"
   ]
  },
  {
   "cell_type": "code",
   "execution_count": 34,
   "id": "spanish-radical",
   "metadata": {
    "execution": {
     "iopub.execute_input": "2021-04-16T15:01:35.231941Z",
     "iopub.status.busy": "2021-04-16T15:01:35.193652Z",
     "iopub.status.idle": "2021-04-16T15:01:36.209853Z",
     "shell.execute_reply": "2021-04-16T15:01:36.209290Z"
    },
    "papermill": {
     "duration": 1.084054,
     "end_time": "2021-04-16T15:01:36.210005",
     "exception": false,
     "start_time": "2021-04-16T15:01:35.125951",
     "status": "completed"
    },
    "tags": []
   },
   "outputs": [
    {
     "name": "stdout",
     "output_type": "stream",
     "text": [
      "##########################################\n",
      "#\tTest accuracy is 62.6378%\t#\n",
      "##########################################\n"
     ]
    },
    {
     "data": {
      "text/html": [
       "<div>\n",
       "<style scoped>\n",
       "    .dataframe tbody tr th:only-of-type {\n",
       "        vertical-align: middle;\n",
       "    }\n",
       "\n",
       "    .dataframe tbody tr th {\n",
       "        vertical-align: top;\n",
       "    }\n",
       "\n",
       "    .dataframe thead th {\n",
       "        text-align: right;\n",
       "    }\n",
       "</style>\n",
       "<table border=\"1\" class=\"dataframe\">\n",
       "  <thead>\n",
       "    <tr style=\"text-align: right;\">\n",
       "      <th></th>\n",
       "      <th>titles</th>\n",
       "      <th>genres</th>\n",
       "      <th>prediction</th>\n",
       "      <th>result</th>\n",
       "    </tr>\n",
       "  </thead>\n",
       "  <tbody>\n",
       "    <tr>\n",
       "      <th>0</th>\n",
       "      <td>The Sword Thief</td>\n",
       "      <td>Children's literature</td>\n",
       "      <td>Children's literature</td>\n",
       "      <td>Correct</td>\n",
       "    </tr>\n",
       "    <tr>\n",
       "      <th>1</th>\n",
       "      <td>Fangirl</td>\n",
       "      <td>Young adult literature</td>\n",
       "      <td>Young adult literature</td>\n",
       "      <td>Correct</td>\n",
       "    </tr>\n",
       "    <tr>\n",
       "      <th>2</th>\n",
       "      <td>Deeds of the Disturber</td>\n",
       "      <td>Mystery</td>\n",
       "      <td>Mystery</td>\n",
       "      <td>Correct</td>\n",
       "    </tr>\n",
       "    <tr>\n",
       "      <th>3</th>\n",
       "      <td>The Amazing Super Great Awesome Incredible Fan...</td>\n",
       "      <td>Children's literature</td>\n",
       "      <td>Science Fiction</td>\n",
       "      <td>Wrong</td>\n",
       "    </tr>\n",
       "    <tr>\n",
       "      <th>4</th>\n",
       "      <td>The Night Olivia Fell</td>\n",
       "      <td>Suspense</td>\n",
       "      <td>Suspense</td>\n",
       "      <td>Correct</td>\n",
       "    </tr>\n",
       "    <tr>\n",
       "      <th>5</th>\n",
       "      <td>Finding the Rainbow</td>\n",
       "      <td>Non-fiction</td>\n",
       "      <td>Non-fiction</td>\n",
       "      <td>Correct</td>\n",
       "    </tr>\n",
       "    <tr>\n",
       "      <th>6</th>\n",
       "      <td>The Surrogate</td>\n",
       "      <td>Mystery</td>\n",
       "      <td>Crime Fiction</td>\n",
       "      <td>Wrong</td>\n",
       "    </tr>\n",
       "    <tr>\n",
       "      <th>7</th>\n",
       "      <td>The Drop</td>\n",
       "      <td>Crime Fiction</td>\n",
       "      <td>Crime Fiction</td>\n",
       "      <td>Correct</td>\n",
       "    </tr>\n",
       "    <tr>\n",
       "      <th>8</th>\n",
       "      <td>Van Laven Chronicles: Throne of Novoxos</td>\n",
       "      <td>Suspense</td>\n",
       "      <td>Young adult literature</td>\n",
       "      <td>Wrong</td>\n",
       "    </tr>\n",
       "    <tr>\n",
       "      <th>9</th>\n",
       "      <td>The Ice Harvest</td>\n",
       "      <td>Suspense</td>\n",
       "      <td>Children's literature</td>\n",
       "      <td>Wrong</td>\n",
       "    </tr>\n",
       "    <tr>\n",
       "      <th>10</th>\n",
       "      <td>Sold</td>\n",
       "      <td>Young adult literature</td>\n",
       "      <td>Young adult literature</td>\n",
       "      <td>Correct</td>\n",
       "    </tr>\n",
       "    <tr>\n",
       "      <th>11</th>\n",
       "      <td>The Cruelest Month</td>\n",
       "      <td>Mystery</td>\n",
       "      <td>Mystery</td>\n",
       "      <td>Correct</td>\n",
       "    </tr>\n",
       "    <tr>\n",
       "      <th>12</th>\n",
       "      <td>Why Nations Fail: The Origins of Power, Prospe...</td>\n",
       "      <td>Non-fiction</td>\n",
       "      <td>Non-fiction</td>\n",
       "      <td>Correct</td>\n",
       "    </tr>\n",
       "    <tr>\n",
       "      <th>13</th>\n",
       "      <td>A Ring of Endless Light</td>\n",
       "      <td>Young adult literature</td>\n",
       "      <td>Young adult literature</td>\n",
       "      <td>Correct</td>\n",
       "    </tr>\n",
       "    <tr>\n",
       "      <th>14</th>\n",
       "      <td>The Coming of the Quantum Cats</td>\n",
       "      <td>Science Fiction</td>\n",
       "      <td>Science Fiction</td>\n",
       "      <td>Correct</td>\n",
       "    </tr>\n",
       "    <tr>\n",
       "      <th>15</th>\n",
       "      <td>Unspoken</td>\n",
       "      <td>Young adult literature</td>\n",
       "      <td>Young adult literature</td>\n",
       "      <td>Correct</td>\n",
       "    </tr>\n",
       "    <tr>\n",
       "      <th>16</th>\n",
       "      <td>The 5th Horseman</td>\n",
       "      <td>Suspense</td>\n",
       "      <td>Crime Fiction</td>\n",
       "      <td>Wrong</td>\n",
       "    </tr>\n",
       "    <tr>\n",
       "      <th>17</th>\n",
       "      <td>The Yearling</td>\n",
       "      <td>Children's literature</td>\n",
       "      <td>Children's literature</td>\n",
       "      <td>Correct</td>\n",
       "    </tr>\n",
       "    <tr>\n",
       "      <th>18</th>\n",
       "      <td>Found</td>\n",
       "      <td>Young adult literature</td>\n",
       "      <td>Young adult literature</td>\n",
       "      <td>Correct</td>\n",
       "    </tr>\n",
       "    <tr>\n",
       "      <th>19</th>\n",
       "      <td>Jingle Bell Bark</td>\n",
       "      <td>Crime Fiction</td>\n",
       "      <td>Crime Fiction</td>\n",
       "      <td>Correct</td>\n",
       "    </tr>\n",
       "    <tr>\n",
       "      <th>20</th>\n",
       "      <td>Dear Wife</td>\n",
       "      <td>Mystery</td>\n",
       "      <td>Crime Fiction</td>\n",
       "      <td>Wrong</td>\n",
       "    </tr>\n",
       "    <tr>\n",
       "      <th>21</th>\n",
       "      <td>Cries of the Eagle</td>\n",
       "      <td>Crime Fiction</td>\n",
       "      <td>Suspense</td>\n",
       "      <td>Wrong</td>\n",
       "    </tr>\n",
       "    <tr>\n",
       "      <th>22</th>\n",
       "      <td>The Fox Princess</td>\n",
       "      <td>Suspense</td>\n",
       "      <td>Suspense</td>\n",
       "      <td>Correct</td>\n",
       "    </tr>\n",
       "    <tr>\n",
       "      <th>23</th>\n",
       "      <td>The Black Mountain</td>\n",
       "      <td>Suspense</td>\n",
       "      <td>Suspense</td>\n",
       "      <td>Correct</td>\n",
       "    </tr>\n",
       "    <tr>\n",
       "      <th>24</th>\n",
       "      <td>People's Republic</td>\n",
       "      <td>Children's literature</td>\n",
       "      <td>Children's literature</td>\n",
       "      <td>Correct</td>\n",
       "    </tr>\n",
       "    <tr>\n",
       "      <th>25</th>\n",
       "      <td>The Redeeming Power of Brain Surgery</td>\n",
       "      <td>Suspense</td>\n",
       "      <td>Crime Fiction</td>\n",
       "      <td>Wrong</td>\n",
       "    </tr>\n",
       "    <tr>\n",
       "      <th>26</th>\n",
       "      <td>The Strange Case of Dr. Jekyll and Mr. Hyde</td>\n",
       "      <td>Young adult literature</td>\n",
       "      <td>Crime Fiction</td>\n",
       "      <td>Wrong</td>\n",
       "    </tr>\n",
       "    <tr>\n",
       "      <th>27</th>\n",
       "      <td>Alex Cross's Trial</td>\n",
       "      <td>Crime Fiction</td>\n",
       "      <td>Children's literature</td>\n",
       "      <td>Wrong</td>\n",
       "    </tr>\n",
       "    <tr>\n",
       "      <th>28</th>\n",
       "      <td>The Sheep Look Up</td>\n",
       "      <td>Science Fiction</td>\n",
       "      <td>Science Fiction</td>\n",
       "      <td>Correct</td>\n",
       "    </tr>\n",
       "    <tr>\n",
       "      <th>29</th>\n",
       "      <td>Bunker Soldiers</td>\n",
       "      <td>Science Fiction</td>\n",
       "      <td>Science Fiction</td>\n",
       "      <td>Correct</td>\n",
       "    </tr>\n",
       "  </tbody>\n",
       "</table>\n",
       "</div>"
      ],
      "text/plain": [
       "                                               titles                  genres  \\\n",
       "0                                     The Sword Thief   Children's literature   \n",
       "1                                             Fangirl  Young adult literature   \n",
       "2                              Deeds of the Disturber                 Mystery   \n",
       "3   The Amazing Super Great Awesome Incredible Fan...   Children's literature   \n",
       "4                               The Night Olivia Fell                Suspense   \n",
       "5                                 Finding the Rainbow             Non-fiction   \n",
       "6                                       The Surrogate                 Mystery   \n",
       "7                                            The Drop           Crime Fiction   \n",
       "8             Van Laven Chronicles: Throne of Novoxos                Suspense   \n",
       "9                                     The Ice Harvest                Suspense   \n",
       "10                                               Sold  Young adult literature   \n",
       "11                                 The Cruelest Month                 Mystery   \n",
       "12  Why Nations Fail: The Origins of Power, Prospe...             Non-fiction   \n",
       "13                            A Ring of Endless Light  Young adult literature   \n",
       "14                     The Coming of the Quantum Cats         Science Fiction   \n",
       "15                                           Unspoken  Young adult literature   \n",
       "16                                   The 5th Horseman                Suspense   \n",
       "17                                       The Yearling   Children's literature   \n",
       "18                                              Found  Young adult literature   \n",
       "19                                   Jingle Bell Bark           Crime Fiction   \n",
       "20                                          Dear Wife                 Mystery   \n",
       "21                                 Cries of the Eagle           Crime Fiction   \n",
       "22                                   The Fox Princess                Suspense   \n",
       "23                                 The Black Mountain                Suspense   \n",
       "24                                  People's Republic   Children's literature   \n",
       "25               The Redeeming Power of Brain Surgery                Suspense   \n",
       "26        The Strange Case of Dr. Jekyll and Mr. Hyde  Young adult literature   \n",
       "27                                 Alex Cross's Trial           Crime Fiction   \n",
       "28                                  The Sheep Look Up         Science Fiction   \n",
       "29                                    Bunker Soldiers         Science Fiction   \n",
       "\n",
       "                prediction   result  \n",
       "0    Children's literature  Correct  \n",
       "1   Young adult literature  Correct  \n",
       "2                  Mystery  Correct  \n",
       "3          Science Fiction    Wrong  \n",
       "4                 Suspense  Correct  \n",
       "5              Non-fiction  Correct  \n",
       "6            Crime Fiction    Wrong  \n",
       "7            Crime Fiction  Correct  \n",
       "8   Young adult literature    Wrong  \n",
       "9    Children's literature    Wrong  \n",
       "10  Young adult literature  Correct  \n",
       "11                 Mystery  Correct  \n",
       "12             Non-fiction  Correct  \n",
       "13  Young adult literature  Correct  \n",
       "14         Science Fiction  Correct  \n",
       "15  Young adult literature  Correct  \n",
       "16           Crime Fiction    Wrong  \n",
       "17   Children's literature  Correct  \n",
       "18  Young adult literature  Correct  \n",
       "19           Crime Fiction  Correct  \n",
       "20           Crime Fiction    Wrong  \n",
       "21                Suspense    Wrong  \n",
       "22                Suspense  Correct  \n",
       "23                Suspense  Correct  \n",
       "24   Children's literature  Correct  \n",
       "25           Crime Fiction    Wrong  \n",
       "26           Crime Fiction    Wrong  \n",
       "27   Children's literature    Wrong  \n",
       "28         Science Fiction  Correct  \n",
       "29         Science Fiction  Correct  "
      ]
     },
     "execution_count": 34,
     "metadata": {},
     "output_type": "execute_result"
    }
   ],
   "source": [
    "pred_nb = NB_grid.best_estimator_.predict(test_x)\n",
    "pred_nb_df = save_print_results(pred=pred_nb, labels=test_y, titles=test_titles, save_file=\"./pred_nb_results.csv\")\n",
    "pred_nb_df.head(30)"
   ]
  },
  {
   "cell_type": "code",
   "execution_count": 35,
   "id": "suspended-armenia",
   "metadata": {
    "execution": {
     "iopub.execute_input": "2021-04-16T15:01:36.342506Z",
     "iopub.status.busy": "2021-04-16T15:01:36.341543Z",
     "iopub.status.idle": "2021-04-16T15:01:37.346915Z",
     "shell.execute_reply": "2021-04-16T15:01:37.346387Z"
    },
    "papermill": {
     "duration": 1.076115,
     "end_time": "2021-04-16T15:01:37.347074",
     "exception": false,
     "start_time": "2021-04-16T15:01:36.270959",
     "status": "completed"
    },
    "tags": []
   },
   "outputs": [
    {
     "name": "stdout",
     "output_type": "stream",
     "text": [
      "##########################################\n",
      "#\tTest accuracy is 63.3358%\t#\n",
      "##########################################\n"
     ]
    },
    {
     "data": {
      "text/html": [
       "<div>\n",
       "<style scoped>\n",
       "    .dataframe tbody tr th:only-of-type {\n",
       "        vertical-align: middle;\n",
       "    }\n",
       "\n",
       "    .dataframe tbody tr th {\n",
       "        vertical-align: top;\n",
       "    }\n",
       "\n",
       "    .dataframe thead th {\n",
       "        text-align: right;\n",
       "    }\n",
       "</style>\n",
       "<table border=\"1\" class=\"dataframe\">\n",
       "  <thead>\n",
       "    <tr style=\"text-align: right;\">\n",
       "      <th></th>\n",
       "      <th>titles</th>\n",
       "      <th>genres</th>\n",
       "      <th>prediction</th>\n",
       "      <th>result</th>\n",
       "    </tr>\n",
       "  </thead>\n",
       "  <tbody>\n",
       "    <tr>\n",
       "      <th>0</th>\n",
       "      <td>The Sword Thief</td>\n",
       "      <td>Children's literature</td>\n",
       "      <td>Children's literature</td>\n",
       "      <td>Correct</td>\n",
       "    </tr>\n",
       "    <tr>\n",
       "      <th>1</th>\n",
       "      <td>Fangirl</td>\n",
       "      <td>Young adult literature</td>\n",
       "      <td>Young adult literature</td>\n",
       "      <td>Correct</td>\n",
       "    </tr>\n",
       "    <tr>\n",
       "      <th>2</th>\n",
       "      <td>Deeds of the Disturber</td>\n",
       "      <td>Mystery</td>\n",
       "      <td>Mystery</td>\n",
       "      <td>Correct</td>\n",
       "    </tr>\n",
       "    <tr>\n",
       "      <th>3</th>\n",
       "      <td>The Amazing Super Great Awesome Incredible Fan...</td>\n",
       "      <td>Children's literature</td>\n",
       "      <td>Science Fiction</td>\n",
       "      <td>Wrong</td>\n",
       "    </tr>\n",
       "    <tr>\n",
       "      <th>4</th>\n",
       "      <td>The Night Olivia Fell</td>\n",
       "      <td>Suspense</td>\n",
       "      <td>Suspense</td>\n",
       "      <td>Correct</td>\n",
       "    </tr>\n",
       "    <tr>\n",
       "      <th>5</th>\n",
       "      <td>Finding the Rainbow</td>\n",
       "      <td>Non-fiction</td>\n",
       "      <td>Non-fiction</td>\n",
       "      <td>Correct</td>\n",
       "    </tr>\n",
       "    <tr>\n",
       "      <th>6</th>\n",
       "      <td>The Surrogate</td>\n",
       "      <td>Mystery</td>\n",
       "      <td>Crime Fiction</td>\n",
       "      <td>Wrong</td>\n",
       "    </tr>\n",
       "    <tr>\n",
       "      <th>7</th>\n",
       "      <td>The Drop</td>\n",
       "      <td>Crime Fiction</td>\n",
       "      <td>Crime Fiction</td>\n",
       "      <td>Correct</td>\n",
       "    </tr>\n",
       "    <tr>\n",
       "      <th>8</th>\n",
       "      <td>Van Laven Chronicles: Throne of Novoxos</td>\n",
       "      <td>Suspense</td>\n",
       "      <td>Science Fiction</td>\n",
       "      <td>Wrong</td>\n",
       "    </tr>\n",
       "    <tr>\n",
       "      <th>9</th>\n",
       "      <td>The Ice Harvest</td>\n",
       "      <td>Suspense</td>\n",
       "      <td>Children's literature</td>\n",
       "      <td>Wrong</td>\n",
       "    </tr>\n",
       "    <tr>\n",
       "      <th>10</th>\n",
       "      <td>Sold</td>\n",
       "      <td>Young adult literature</td>\n",
       "      <td>Young adult literature</td>\n",
       "      <td>Correct</td>\n",
       "    </tr>\n",
       "    <tr>\n",
       "      <th>11</th>\n",
       "      <td>The Cruelest Month</td>\n",
       "      <td>Mystery</td>\n",
       "      <td>Crime Fiction</td>\n",
       "      <td>Wrong</td>\n",
       "    </tr>\n",
       "    <tr>\n",
       "      <th>12</th>\n",
       "      <td>Why Nations Fail: The Origins of Power, Prospe...</td>\n",
       "      <td>Non-fiction</td>\n",
       "      <td>Non-fiction</td>\n",
       "      <td>Correct</td>\n",
       "    </tr>\n",
       "    <tr>\n",
       "      <th>13</th>\n",
       "      <td>A Ring of Endless Light</td>\n",
       "      <td>Young adult literature</td>\n",
       "      <td>Young adult literature</td>\n",
       "      <td>Correct</td>\n",
       "    </tr>\n",
       "    <tr>\n",
       "      <th>14</th>\n",
       "      <td>The Coming of the Quantum Cats</td>\n",
       "      <td>Science Fiction</td>\n",
       "      <td>Science Fiction</td>\n",
       "      <td>Correct</td>\n",
       "    </tr>\n",
       "    <tr>\n",
       "      <th>15</th>\n",
       "      <td>Unspoken</td>\n",
       "      <td>Young adult literature</td>\n",
       "      <td>Young adult literature</td>\n",
       "      <td>Correct</td>\n",
       "    </tr>\n",
       "    <tr>\n",
       "      <th>16</th>\n",
       "      <td>The 5th Horseman</td>\n",
       "      <td>Suspense</td>\n",
       "      <td>Crime Fiction</td>\n",
       "      <td>Wrong</td>\n",
       "    </tr>\n",
       "    <tr>\n",
       "      <th>17</th>\n",
       "      <td>The Yearling</td>\n",
       "      <td>Children's literature</td>\n",
       "      <td>Children's literature</td>\n",
       "      <td>Correct</td>\n",
       "    </tr>\n",
       "    <tr>\n",
       "      <th>18</th>\n",
       "      <td>Found</td>\n",
       "      <td>Young adult literature</td>\n",
       "      <td>Young adult literature</td>\n",
       "      <td>Correct</td>\n",
       "    </tr>\n",
       "    <tr>\n",
       "      <th>19</th>\n",
       "      <td>Jingle Bell Bark</td>\n",
       "      <td>Crime Fiction</td>\n",
       "      <td>Suspense</td>\n",
       "      <td>Wrong</td>\n",
       "    </tr>\n",
       "    <tr>\n",
       "      <th>20</th>\n",
       "      <td>Dear Wife</td>\n",
       "      <td>Mystery</td>\n",
       "      <td>Crime Fiction</td>\n",
       "      <td>Wrong</td>\n",
       "    </tr>\n",
       "    <tr>\n",
       "      <th>21</th>\n",
       "      <td>Cries of the Eagle</td>\n",
       "      <td>Crime Fiction</td>\n",
       "      <td>Suspense</td>\n",
       "      <td>Wrong</td>\n",
       "    </tr>\n",
       "    <tr>\n",
       "      <th>22</th>\n",
       "      <td>The Fox Princess</td>\n",
       "      <td>Suspense</td>\n",
       "      <td>Science Fiction</td>\n",
       "      <td>Wrong</td>\n",
       "    </tr>\n",
       "    <tr>\n",
       "      <th>23</th>\n",
       "      <td>The Black Mountain</td>\n",
       "      <td>Suspense</td>\n",
       "      <td>Suspense</td>\n",
       "      <td>Correct</td>\n",
       "    </tr>\n",
       "    <tr>\n",
       "      <th>24</th>\n",
       "      <td>People's Republic</td>\n",
       "      <td>Children's literature</td>\n",
       "      <td>Children's literature</td>\n",
       "      <td>Correct</td>\n",
       "    </tr>\n",
       "    <tr>\n",
       "      <th>25</th>\n",
       "      <td>The Redeeming Power of Brain Surgery</td>\n",
       "      <td>Suspense</td>\n",
       "      <td>Young adult literature</td>\n",
       "      <td>Wrong</td>\n",
       "    </tr>\n",
       "    <tr>\n",
       "      <th>26</th>\n",
       "      <td>The Strange Case of Dr. Jekyll and Mr. Hyde</td>\n",
       "      <td>Young adult literature</td>\n",
       "      <td>Children's literature</td>\n",
       "      <td>Wrong</td>\n",
       "    </tr>\n",
       "    <tr>\n",
       "      <th>27</th>\n",
       "      <td>Alex Cross's Trial</td>\n",
       "      <td>Crime Fiction</td>\n",
       "      <td>Children's literature</td>\n",
       "      <td>Wrong</td>\n",
       "    </tr>\n",
       "    <tr>\n",
       "      <th>28</th>\n",
       "      <td>The Sheep Look Up</td>\n",
       "      <td>Science Fiction</td>\n",
       "      <td>Science Fiction</td>\n",
       "      <td>Correct</td>\n",
       "    </tr>\n",
       "    <tr>\n",
       "      <th>29</th>\n",
       "      <td>Bunker Soldiers</td>\n",
       "      <td>Science Fiction</td>\n",
       "      <td>Science Fiction</td>\n",
       "      <td>Correct</td>\n",
       "    </tr>\n",
       "  </tbody>\n",
       "</table>\n",
       "</div>"
      ],
      "text/plain": [
       "                                               titles                  genres  \\\n",
       "0                                     The Sword Thief   Children's literature   \n",
       "1                                             Fangirl  Young adult literature   \n",
       "2                              Deeds of the Disturber                 Mystery   \n",
       "3   The Amazing Super Great Awesome Incredible Fan...   Children's literature   \n",
       "4                               The Night Olivia Fell                Suspense   \n",
       "5                                 Finding the Rainbow             Non-fiction   \n",
       "6                                       The Surrogate                 Mystery   \n",
       "7                                            The Drop           Crime Fiction   \n",
       "8             Van Laven Chronicles: Throne of Novoxos                Suspense   \n",
       "9                                     The Ice Harvest                Suspense   \n",
       "10                                               Sold  Young adult literature   \n",
       "11                                 The Cruelest Month                 Mystery   \n",
       "12  Why Nations Fail: The Origins of Power, Prospe...             Non-fiction   \n",
       "13                            A Ring of Endless Light  Young adult literature   \n",
       "14                     The Coming of the Quantum Cats         Science Fiction   \n",
       "15                                           Unspoken  Young adult literature   \n",
       "16                                   The 5th Horseman                Suspense   \n",
       "17                                       The Yearling   Children's literature   \n",
       "18                                              Found  Young adult literature   \n",
       "19                                   Jingle Bell Bark           Crime Fiction   \n",
       "20                                          Dear Wife                 Mystery   \n",
       "21                                 Cries of the Eagle           Crime Fiction   \n",
       "22                                   The Fox Princess                Suspense   \n",
       "23                                 The Black Mountain                Suspense   \n",
       "24                                  People's Republic   Children's literature   \n",
       "25               The Redeeming Power of Brain Surgery                Suspense   \n",
       "26        The Strange Case of Dr. Jekyll and Mr. Hyde  Young adult literature   \n",
       "27                                 Alex Cross's Trial           Crime Fiction   \n",
       "28                                  The Sheep Look Up         Science Fiction   \n",
       "29                                    Bunker Soldiers         Science Fiction   \n",
       "\n",
       "                prediction   result  \n",
       "0    Children's literature  Correct  \n",
       "1   Young adult literature  Correct  \n",
       "2                  Mystery  Correct  \n",
       "3          Science Fiction    Wrong  \n",
       "4                 Suspense  Correct  \n",
       "5              Non-fiction  Correct  \n",
       "6            Crime Fiction    Wrong  \n",
       "7            Crime Fiction  Correct  \n",
       "8          Science Fiction    Wrong  \n",
       "9    Children's literature    Wrong  \n",
       "10  Young adult literature  Correct  \n",
       "11           Crime Fiction    Wrong  \n",
       "12             Non-fiction  Correct  \n",
       "13  Young adult literature  Correct  \n",
       "14         Science Fiction  Correct  \n",
       "15  Young adult literature  Correct  \n",
       "16           Crime Fiction    Wrong  \n",
       "17   Children's literature  Correct  \n",
       "18  Young adult literature  Correct  \n",
       "19                Suspense    Wrong  \n",
       "20           Crime Fiction    Wrong  \n",
       "21                Suspense    Wrong  \n",
       "22         Science Fiction    Wrong  \n",
       "23                Suspense  Correct  \n",
       "24   Children's literature  Correct  \n",
       "25  Young adult literature    Wrong  \n",
       "26   Children's literature    Wrong  \n",
       "27   Children's literature    Wrong  \n",
       "28         Science Fiction  Correct  \n",
       "29         Science Fiction  Correct  "
      ]
     },
     "execution_count": 35,
     "metadata": {},
     "output_type": "execute_result"
    }
   ],
   "source": [
    "pred_lr = LogReg_grid.best_estimator_.predict(test_x)\n",
    "pred_lr_df = save_print_results(pred=pred_lr, labels=test_y, titles=test_titles, save_file=\"./pred_lr_results.csv\")\n",
    "pred_lr_df.head(30)"
   ]
  },
  {
   "cell_type": "code",
   "execution_count": 36,
   "id": "subsequent-choice",
   "metadata": {
    "execution": {
     "iopub.execute_input": "2021-04-16T15:01:37.511244Z",
     "iopub.status.busy": "2021-04-16T15:01:37.500139Z",
     "iopub.status.idle": "2021-04-16T15:01:39.300503Z",
     "shell.execute_reply": "2021-04-16T15:01:39.299550Z"
    },
    "papermill": {
     "duration": 1.891606,
     "end_time": "2021-04-16T15:01:39.300664",
     "exception": false,
     "start_time": "2021-04-16T15:01:37.409058",
     "status": "completed"
    },
    "tags": []
   },
   "outputs": [
    {
     "name": "stdout",
     "output_type": "stream",
     "text": [
      "##########################################\n",
      "#\tTest accuracy is 64.1440%\t#\n",
      "##########################################\n"
     ]
    },
    {
     "data": {
      "text/html": [
       "<div>\n",
       "<style scoped>\n",
       "    .dataframe tbody tr th:only-of-type {\n",
       "        vertical-align: middle;\n",
       "    }\n",
       "\n",
       "    .dataframe tbody tr th {\n",
       "        vertical-align: top;\n",
       "    }\n",
       "\n",
       "    .dataframe thead th {\n",
       "        text-align: right;\n",
       "    }\n",
       "</style>\n",
       "<table border=\"1\" class=\"dataframe\">\n",
       "  <thead>\n",
       "    <tr style=\"text-align: right;\">\n",
       "      <th></th>\n",
       "      <th>titles</th>\n",
       "      <th>genres</th>\n",
       "      <th>prediction</th>\n",
       "      <th>result</th>\n",
       "    </tr>\n",
       "  </thead>\n",
       "  <tbody>\n",
       "    <tr>\n",
       "      <th>0</th>\n",
       "      <td>The Sword Thief</td>\n",
       "      <td>Children's literature</td>\n",
       "      <td>Children's literature</td>\n",
       "      <td>Correct</td>\n",
       "    </tr>\n",
       "    <tr>\n",
       "      <th>1</th>\n",
       "      <td>Fangirl</td>\n",
       "      <td>Young adult literature</td>\n",
       "      <td>Young adult literature</td>\n",
       "      <td>Correct</td>\n",
       "    </tr>\n",
       "    <tr>\n",
       "      <th>2</th>\n",
       "      <td>Deeds of the Disturber</td>\n",
       "      <td>Mystery</td>\n",
       "      <td>Mystery</td>\n",
       "      <td>Correct</td>\n",
       "    </tr>\n",
       "    <tr>\n",
       "      <th>3</th>\n",
       "      <td>The Amazing Super Great Awesome Incredible Fan...</td>\n",
       "      <td>Children's literature</td>\n",
       "      <td>Science Fiction</td>\n",
       "      <td>Wrong</td>\n",
       "    </tr>\n",
       "    <tr>\n",
       "      <th>4</th>\n",
       "      <td>The Night Olivia Fell</td>\n",
       "      <td>Suspense</td>\n",
       "      <td>Mystery</td>\n",
       "      <td>Wrong</td>\n",
       "    </tr>\n",
       "    <tr>\n",
       "      <th>5</th>\n",
       "      <td>Finding the Rainbow</td>\n",
       "      <td>Non-fiction</td>\n",
       "      <td>Non-fiction</td>\n",
       "      <td>Correct</td>\n",
       "    </tr>\n",
       "    <tr>\n",
       "      <th>6</th>\n",
       "      <td>The Surrogate</td>\n",
       "      <td>Mystery</td>\n",
       "      <td>Crime Fiction</td>\n",
       "      <td>Wrong</td>\n",
       "    </tr>\n",
       "    <tr>\n",
       "      <th>7</th>\n",
       "      <td>The Drop</td>\n",
       "      <td>Crime Fiction</td>\n",
       "      <td>Crime Fiction</td>\n",
       "      <td>Correct</td>\n",
       "    </tr>\n",
       "    <tr>\n",
       "      <th>8</th>\n",
       "      <td>Van Laven Chronicles: Throne of Novoxos</td>\n",
       "      <td>Suspense</td>\n",
       "      <td>Science Fiction</td>\n",
       "      <td>Wrong</td>\n",
       "    </tr>\n",
       "    <tr>\n",
       "      <th>9</th>\n",
       "      <td>The Ice Harvest</td>\n",
       "      <td>Suspense</td>\n",
       "      <td>Crime Fiction</td>\n",
       "      <td>Wrong</td>\n",
       "    </tr>\n",
       "    <tr>\n",
       "      <th>10</th>\n",
       "      <td>Sold</td>\n",
       "      <td>Young adult literature</td>\n",
       "      <td>Young adult literature</td>\n",
       "      <td>Correct</td>\n",
       "    </tr>\n",
       "    <tr>\n",
       "      <th>11</th>\n",
       "      <td>The Cruelest Month</td>\n",
       "      <td>Mystery</td>\n",
       "      <td>Crime Fiction</td>\n",
       "      <td>Wrong</td>\n",
       "    </tr>\n",
       "    <tr>\n",
       "      <th>12</th>\n",
       "      <td>Why Nations Fail: The Origins of Power, Prospe...</td>\n",
       "      <td>Non-fiction</td>\n",
       "      <td>Non-fiction</td>\n",
       "      <td>Correct</td>\n",
       "    </tr>\n",
       "    <tr>\n",
       "      <th>13</th>\n",
       "      <td>A Ring of Endless Light</td>\n",
       "      <td>Young adult literature</td>\n",
       "      <td>Young adult literature</td>\n",
       "      <td>Correct</td>\n",
       "    </tr>\n",
       "    <tr>\n",
       "      <th>14</th>\n",
       "      <td>The Coming of the Quantum Cats</td>\n",
       "      <td>Science Fiction</td>\n",
       "      <td>Science Fiction</td>\n",
       "      <td>Correct</td>\n",
       "    </tr>\n",
       "    <tr>\n",
       "      <th>15</th>\n",
       "      <td>Unspoken</td>\n",
       "      <td>Young adult literature</td>\n",
       "      <td>Young adult literature</td>\n",
       "      <td>Correct</td>\n",
       "    </tr>\n",
       "    <tr>\n",
       "      <th>16</th>\n",
       "      <td>The 5th Horseman</td>\n",
       "      <td>Suspense</td>\n",
       "      <td>Crime Fiction</td>\n",
       "      <td>Wrong</td>\n",
       "    </tr>\n",
       "    <tr>\n",
       "      <th>17</th>\n",
       "      <td>The Yearling</td>\n",
       "      <td>Children's literature</td>\n",
       "      <td>Children's literature</td>\n",
       "      <td>Correct</td>\n",
       "    </tr>\n",
       "    <tr>\n",
       "      <th>18</th>\n",
       "      <td>Found</td>\n",
       "      <td>Young adult literature</td>\n",
       "      <td>Young adult literature</td>\n",
       "      <td>Correct</td>\n",
       "    </tr>\n",
       "    <tr>\n",
       "      <th>19</th>\n",
       "      <td>Jingle Bell Bark</td>\n",
       "      <td>Crime Fiction</td>\n",
       "      <td>Suspense</td>\n",
       "      <td>Wrong</td>\n",
       "    </tr>\n",
       "    <tr>\n",
       "      <th>20</th>\n",
       "      <td>Dear Wife</td>\n",
       "      <td>Mystery</td>\n",
       "      <td>Crime Fiction</td>\n",
       "      <td>Wrong</td>\n",
       "    </tr>\n",
       "    <tr>\n",
       "      <th>21</th>\n",
       "      <td>Cries of the Eagle</td>\n",
       "      <td>Crime Fiction</td>\n",
       "      <td>Suspense</td>\n",
       "      <td>Wrong</td>\n",
       "    </tr>\n",
       "    <tr>\n",
       "      <th>22</th>\n",
       "      <td>The Fox Princess</td>\n",
       "      <td>Suspense</td>\n",
       "      <td>Suspense</td>\n",
       "      <td>Correct</td>\n",
       "    </tr>\n",
       "    <tr>\n",
       "      <th>23</th>\n",
       "      <td>The Black Mountain</td>\n",
       "      <td>Suspense</td>\n",
       "      <td>Suspense</td>\n",
       "      <td>Correct</td>\n",
       "    </tr>\n",
       "    <tr>\n",
       "      <th>24</th>\n",
       "      <td>People's Republic</td>\n",
       "      <td>Children's literature</td>\n",
       "      <td>Children's literature</td>\n",
       "      <td>Correct</td>\n",
       "    </tr>\n",
       "    <tr>\n",
       "      <th>25</th>\n",
       "      <td>The Redeeming Power of Brain Surgery</td>\n",
       "      <td>Suspense</td>\n",
       "      <td>Crime Fiction</td>\n",
       "      <td>Wrong</td>\n",
       "    </tr>\n",
       "    <tr>\n",
       "      <th>26</th>\n",
       "      <td>The Strange Case of Dr. Jekyll and Mr. Hyde</td>\n",
       "      <td>Young adult literature</td>\n",
       "      <td>Fantasy</td>\n",
       "      <td>Wrong</td>\n",
       "    </tr>\n",
       "    <tr>\n",
       "      <th>27</th>\n",
       "      <td>Alex Cross's Trial</td>\n",
       "      <td>Crime Fiction</td>\n",
       "      <td>Children's literature</td>\n",
       "      <td>Wrong</td>\n",
       "    </tr>\n",
       "    <tr>\n",
       "      <th>28</th>\n",
       "      <td>The Sheep Look Up</td>\n",
       "      <td>Science Fiction</td>\n",
       "      <td>Science Fiction</td>\n",
       "      <td>Correct</td>\n",
       "    </tr>\n",
       "    <tr>\n",
       "      <th>29</th>\n",
       "      <td>Bunker Soldiers</td>\n",
       "      <td>Science Fiction</td>\n",
       "      <td>Science Fiction</td>\n",
       "      <td>Correct</td>\n",
       "    </tr>\n",
       "  </tbody>\n",
       "</table>\n",
       "</div>"
      ],
      "text/plain": [
       "                                               titles                  genres  \\\n",
       "0                                     The Sword Thief   Children's literature   \n",
       "1                                             Fangirl  Young adult literature   \n",
       "2                              Deeds of the Disturber                 Mystery   \n",
       "3   The Amazing Super Great Awesome Incredible Fan...   Children's literature   \n",
       "4                               The Night Olivia Fell                Suspense   \n",
       "5                                 Finding the Rainbow             Non-fiction   \n",
       "6                                       The Surrogate                 Mystery   \n",
       "7                                            The Drop           Crime Fiction   \n",
       "8             Van Laven Chronicles: Throne of Novoxos                Suspense   \n",
       "9                                     The Ice Harvest                Suspense   \n",
       "10                                               Sold  Young adult literature   \n",
       "11                                 The Cruelest Month                 Mystery   \n",
       "12  Why Nations Fail: The Origins of Power, Prospe...             Non-fiction   \n",
       "13                            A Ring of Endless Light  Young adult literature   \n",
       "14                     The Coming of the Quantum Cats         Science Fiction   \n",
       "15                                           Unspoken  Young adult literature   \n",
       "16                                   The 5th Horseman                Suspense   \n",
       "17                                       The Yearling   Children's literature   \n",
       "18                                              Found  Young adult literature   \n",
       "19                                   Jingle Bell Bark           Crime Fiction   \n",
       "20                                          Dear Wife                 Mystery   \n",
       "21                                 Cries of the Eagle           Crime Fiction   \n",
       "22                                   The Fox Princess                Suspense   \n",
       "23                                 The Black Mountain                Suspense   \n",
       "24                                  People's Republic   Children's literature   \n",
       "25               The Redeeming Power of Brain Surgery                Suspense   \n",
       "26        The Strange Case of Dr. Jekyll and Mr. Hyde  Young adult literature   \n",
       "27                                 Alex Cross's Trial           Crime Fiction   \n",
       "28                                  The Sheep Look Up         Science Fiction   \n",
       "29                                    Bunker Soldiers         Science Fiction   \n",
       "\n",
       "                prediction   result  \n",
       "0    Children's literature  Correct  \n",
       "1   Young adult literature  Correct  \n",
       "2                  Mystery  Correct  \n",
       "3          Science Fiction    Wrong  \n",
       "4                  Mystery    Wrong  \n",
       "5              Non-fiction  Correct  \n",
       "6            Crime Fiction    Wrong  \n",
       "7            Crime Fiction  Correct  \n",
       "8          Science Fiction    Wrong  \n",
       "9            Crime Fiction    Wrong  \n",
       "10  Young adult literature  Correct  \n",
       "11           Crime Fiction    Wrong  \n",
       "12             Non-fiction  Correct  \n",
       "13  Young adult literature  Correct  \n",
       "14         Science Fiction  Correct  \n",
       "15  Young adult literature  Correct  \n",
       "16           Crime Fiction    Wrong  \n",
       "17   Children's literature  Correct  \n",
       "18  Young adult literature  Correct  \n",
       "19                Suspense    Wrong  \n",
       "20           Crime Fiction    Wrong  \n",
       "21                Suspense    Wrong  \n",
       "22                Suspense  Correct  \n",
       "23                Suspense  Correct  \n",
       "24   Children's literature  Correct  \n",
       "25           Crime Fiction    Wrong  \n",
       "26                 Fantasy    Wrong  \n",
       "27   Children's literature    Wrong  \n",
       "28         Science Fiction  Correct  \n",
       "29         Science Fiction  Correct  "
      ]
     },
     "execution_count": 36,
     "metadata": {},
     "output_type": "execute_result"
    }
   ],
   "source": [
    "pred_svc = SVC_grid.best_estimator_.predict(test_x)\n",
    "pred_svc_df = save_print_results(pred_svc, test_y, test_titles, save_file=\"./pred_svc_results.csv\")\n",
    "pred_svc_df.head(30)"
   ]
  },
  {
   "cell_type": "markdown",
   "id": "material-employee",
   "metadata": {
    "papermill": {
     "duration": 0.06246,
     "end_time": "2021-04-16T15:01:39.426482",
     "exception": false,
     "start_time": "2021-04-16T15:01:39.364022",
     "status": "completed"
    },
    "tags": []
   },
   "source": [
    "https://scikit-learn.org/stable/tutorial/text_analytics/working_with_text_data.html#extracting-features-from-text-files"
   ]
  },
  {
   "cell_type": "code",
   "execution_count": 37,
   "id": "macro-candidate",
   "metadata": {
    "execution": {
     "iopub.execute_input": "2021-04-16T15:01:39.584608Z",
     "iopub.status.busy": "2021-04-16T15:01:39.567981Z",
     "iopub.status.idle": "2021-04-16T15:01:40.614393Z",
     "shell.execute_reply": "2021-04-16T15:01:40.613783Z"
    },
    "papermill": {
     "duration": 1.123421,
     "end_time": "2021-04-16T15:01:40.614566",
     "exception": false,
     "start_time": "2021-04-16T15:01:39.491145",
     "status": "completed"
    },
    "tags": []
   },
   "outputs": [
    {
     "data": {
      "image/png": "[encoded data removed]",
      "text/plain": [
       "<Figure size 1440x1080 with 4 Axes>"
      ]
     },
     "metadata": {
      "needs_background": "light"
     },
     "output_type": "display_data"
    }
   ],
   "source": [
    "colors=['tab:orange', 'tab:green', 'tab:blue', 'tab:brown', 'tab:pink', 'tab:purple','tab:red', 'tab:gray', 'tab:olive']\n",
    "#df = book_summary_df.groupby(['Genres'])['String Counts'].sum().reset_index()\n",
    "#Stats\n",
    "plt.figure(figsize=(20,15))\n",
    "plt.subplot(2,2,1).set_title(\"Prediction with LR Accuracy = {:.4f}%\".format(benchmarks['LR_tuned'][2]))\n",
    "pred_lr_df.pivot_table(index='genres',columns=['result'],aggfunc='size').plot(kind='barh', color=['tab:blue', 'tab:orange'],ax=plt.gca())\n",
    "plt.subplot(2,2,2).set_title(\"Prediction with SVC Accuracy = {:.4f}%\".format(benchmarks['SVC_tuned'][2]))\n",
    "pred_svc_df.pivot_table(index='genres',columns=['result'],aggfunc='size').plot(kind='barh', color=['tab:blue', 'tab:orange'],ax=plt.gca())\n",
    "plt.subplot(2,2,3).set_title(\"Prediction with NB  Accuracy = {:.4f}%\".format(benchmarks['NB_tuned'][2]))\n",
    "pred_nb_df.pivot_table(index='genres',columns=['result'],aggfunc='size').plot(kind='barh', color=['tab:blue', 'tab:orange'],ax=plt.gca())\n",
    "plt.subplot(2,2,4).set_title(\"Counts of Summaries per Genre\")\n",
    "book_summary_df.groupby('Genres').size().sort_values(ascending=True).plot(kind='barh', color=colors,ax=plt.gca())\n",
    "plt.tight_layout()\n",
    "plt.show()"
   ]
  },
  {
   "cell_type": "markdown",
   "id": "basic-transfer",
   "metadata": {
    "papermill": {
     "duration": 0.065415,
     "end_time": "2021-04-16T15:01:40.746177",
     "exception": false,
     "start_time": "2021-04-16T15:01:40.680762",
     "status": "completed"
    },
    "tags": []
   },
   "source": [
    "# Classification Report\n",
    "Precision, Recall, F1 Score and Confusion Matrix"
   ]
  },
  {
   "cell_type": "code",
   "execution_count": 38,
   "id": "found-veteran",
   "metadata": {
    "execution": {
     "iopub.execute_input": "2021-04-16T15:01:40.879797Z",
     "iopub.status.busy": "2021-04-16T15:01:40.879063Z",
     "iopub.status.idle": "2021-04-16T15:01:40.886557Z",
     "shell.execute_reply": "2021-04-16T15:01:40.887044Z"
    },
    "papermill": {
     "duration": 0.076135,
     "end_time": "2021-04-16T15:01:40.887228",
     "exception": false,
     "start_time": "2021-04-16T15:01:40.811093",
     "status": "completed"
    },
    "tags": []
   },
   "outputs": [],
   "source": [
    "from sklearn import metrics\n",
    "def classification_report(y, pred, target, name):\n",
    "    print('##########################################\\n#\\tTest accuracy is {:.4f}%\\t#\\n##########################################'.format(accuracy_score(y, \n",
    "    pred)*100))\n",
    "    print(\"------------------------------------------------------------\")\n",
    "    print(\"Classification Report for model {}\".format(name))\n",
    "    print(\"------------------------------------------------------------\")\n",
    "    print(metrics.classification_report(y, pred, target_names=target, zero_division=0))\n",
    "    print(\"------------------------------------------------------------\")\n",
    "    #print(\"Confusion Matrix for {}\".format(name))\n",
    "    #print(\"------------------------------------------------------------\")\n",
    "    #print(metrics.confusion_matrix(y, pred))\n",
    "    plt.figure(figsize = (20,15))\n",
    "    sns.set(font_scale=1.4)\n",
    "    sns.heatmap(metrics.confusion_matrix(y, pred), xticklabels = target, yticklabels = target, annot = True, fmt=\"d\",cmap = 'summer', annot_kws={\"size\": 12})\n",
    "    plt.xlabel('Predicted Labels')\n",
    "    plt.ylabel('True Labels')\n",
    "    plt.title(\"Confusion Matrix for {}\".format(name))\n",
    "    plt.show()"
   ]
  },
  {
   "cell_type": "code",
   "execution_count": 39,
   "id": "involved-inventory",
   "metadata": {
    "execution": {
     "iopub.execute_input": "2021-04-16T15:01:41.023468Z",
     "iopub.status.busy": "2021-04-16T15:01:41.022780Z",
     "iopub.status.idle": "2021-04-16T15:01:41.964962Z",
     "shell.execute_reply": "2021-04-16T15:01:41.963593Z"
    },
    "papermill": {
     "duration": 1.011306,
     "end_time": "2021-04-16T15:01:41.965166",
     "exception": false,
     "start_time": "2021-04-16T15:01:40.953860",
     "status": "completed"
    },
    "tags": []
   },
   "outputs": [
    {
     "name": "stdout",
     "output_type": "stream",
     "text": [
      "##########################################\n",
      "#\tTest accuracy is 62.6378%\t#\n",
      "##########################################\n",
      "------------------------------------------------------------\n",
      "Classification Report for model Naive Bayes\n",
      "------------------------------------------------------------\n",
      "                        precision    recall  f1-score   support\n",
      "\n",
      "       Science Fiction       0.60      0.66      0.63       339\n",
      "         Crime Fiction       0.49      0.49      0.49       301\n",
      "           Non-fiction       0.69      0.69      0.69       413\n",
      " Children's literature       0.65      0.33      0.44       288\n",
      "               Fantasy       0.81      0.86      0.83       297\n",
      "               Mystery       0.71      0.81      0.76       434\n",
      "              Suspense       0.44      0.45      0.44       290\n",
      "Young adult literature       0.57      0.59      0.58       360\n",
      "\n",
      "              accuracy                           0.63      2722\n",
      "             macro avg       0.62      0.61      0.61      2722\n",
      "          weighted avg       0.63      0.63      0.62      2722\n",
      "\n",
      "------------------------------------------------------------\n"
     ]
    },
    {
     "data": {
      "image/png": "[encoded data removed]",
      "text/plain": [
       "<Figure size 1440x1080 with 2 Axes>"
      ]
     },
     "metadata": {
      "needs_background": "light"
     },
     "output_type": "display_data"
    }
   ],
   "source": [
    "classification_report(test_y, pred_nb, valid_genres, \"Naive Bayes\")"
   ]
  },
  {
   "cell_type": "code",
   "execution_count": 40,
   "id": "coordinate-content",
   "metadata": {
    "execution": {
     "iopub.execute_input": "2021-04-16T15:01:42.112030Z",
     "iopub.status.busy": "2021-04-16T15:01:42.111128Z",
     "iopub.status.idle": "2021-04-16T15:01:43.039298Z",
     "shell.execute_reply": "2021-04-16T15:01:43.039818Z"
    },
    "papermill": {
     "duration": 1.005323,
     "end_time": "2021-04-16T15:01:43.039992",
     "exception": false,
     "start_time": "2021-04-16T15:01:42.034669",
     "status": "completed"
    },
    "tags": []
   },
   "outputs": [
    {
     "name": "stdout",
     "output_type": "stream",
     "text": [
      "##########################################\n",
      "#\tTest accuracy is 64.1440%\t#\n",
      "##########################################\n",
      "------------------------------------------------------------\n",
      "Classification Report for model Support Vector Classification\n",
      "------------------------------------------------------------\n",
      "                        precision    recall  f1-score   support\n",
      "\n",
      "       Science Fiction       0.64      0.65      0.65       339\n",
      "         Crime Fiction       0.49      0.50      0.50       301\n",
      "           Non-fiction       0.67      0.73      0.70       413\n",
      " Children's literature       0.64      0.34      0.44       288\n",
      "               Fantasy       0.79      0.93      0.85       297\n",
      "               Mystery       0.73      0.79      0.76       434\n",
      "              Suspense       0.48      0.47      0.47       290\n",
      "Young adult literature       0.61      0.60      0.61       360\n",
      "\n",
      "              accuracy                           0.64      2722\n",
      "             macro avg       0.63      0.63      0.62      2722\n",
      "          weighted avg       0.64      0.64      0.63      2722\n",
      "\n",
      "------------------------------------------------------------\n"
     ]
    },
    {
     "data": {
      "image/png": "[encoded data removed]",
      "text/plain": [
       "<Figure size 1440x1080 with 2 Axes>"
      ]
     },
     "metadata": {},
     "output_type": "display_data"
    }
   ],
   "source": [
    "classification_report(test_y, pred_svc, valid_genres, \"Support Vector Classification\")"
   ]
  },
  {
   "cell_type": "code",
   "execution_count": 41,
   "id": "assigned-dress",
   "metadata": {
    "execution": {
     "iopub.execute_input": "2021-04-16T15:01:43.191482Z",
     "iopub.status.busy": "2021-04-16T15:01:43.190431Z",
     "iopub.status.idle": "2021-04-16T15:01:44.265301Z",
     "shell.execute_reply": "2021-04-16T15:01:44.265783Z"
    },
    "papermill": {
     "duration": 1.154089,
     "end_time": "2021-04-16T15:01:44.265975",
     "exception": false,
     "start_time": "2021-04-16T15:01:43.111886",
     "status": "completed"
    },
    "tags": []
   },
   "outputs": [
    {
     "name": "stdout",
     "output_type": "stream",
     "text": [
      "##########################################\n",
      "#\tTest accuracy is 63.3358%\t#\n",
      "##########################################\n",
      "------------------------------------------------------------\n",
      "Classification Report for model Logistic Regression\n",
      "------------------------------------------------------------\n",
      "                        precision    recall  f1-score   support\n",
      "\n",
      "       Science Fiction       0.61      0.64      0.63       339\n",
      "         Crime Fiction       0.50      0.52      0.51       301\n",
      "           Non-fiction       0.65      0.71      0.68       413\n",
      " Children's literature       0.58      0.34      0.43       288\n",
      "               Fantasy       0.80      0.91      0.85       297\n",
      "               Mystery       0.71      0.80      0.75       434\n",
      "              Suspense       0.51      0.41      0.46       290\n",
      "Young adult literature       0.60      0.61      0.61       360\n",
      "\n",
      "              accuracy                           0.63      2722\n",
      "             macro avg       0.62      0.62      0.61      2722\n",
      "          weighted avg       0.63      0.63      0.62      2722\n",
      "\n",
      "------------------------------------------------------------\n"
     ]
    },
    {
     "data": {
      "image/png": "[encoded data removed]",
      "text/plain": [
       "<Figure size 1440x1080 with 2 Axes>"
      ]
     },
     "metadata": {},
     "output_type": "display_data"
    }
   ],
   "source": [
    "classification_report(test_y, pred_lr, valid_genres, \"Logistic Regression\")"
   ]
  },
  {
   "cell_type": "markdown",
   "id": "circular-martial",
   "metadata": {
    "papermill": {
     "duration": 0.075001,
     "end_time": "2021-04-16T15:01:44.416253",
     "exception": false,
     "start_time": "2021-04-16T15:01:44.341252",
     "status": "completed"
    },
    "tags": []
   },
   "source": [
    "# Inference function"
   ]
  },
  {
   "cell_type": "code",
   "execution_count": 42,
   "id": "hearing-athens",
   "metadata": {
    "execution": {
     "iopub.execute_input": "2021-04-16T15:01:44.572608Z",
     "iopub.status.busy": "2021-04-16T15:01:44.571603Z",
     "iopub.status.idle": "2021-04-16T15:01:44.574741Z",
     "shell.execute_reply": "2021-04-16T15:01:44.574154Z"
    },
    "papermill": {
     "duration": 0.082539,
     "end_time": "2021-04-16T15:01:44.574915",
     "exception": false,
     "start_time": "2021-04-16T15:01:44.492376",
     "status": "completed"
    },
    "tags": []
   },
   "outputs": [],
   "source": [
    "import pandas as pd\n",
    "import joblib"
   ]
  },
  {
   "cell_type": "code",
   "execution_count": 43,
   "id": "acceptable-understanding",
   "metadata": {
    "execution": {
     "iopub.execute_input": "2021-04-16T15:01:44.732325Z",
     "iopub.status.busy": "2021-04-16T15:01:44.731671Z",
     "iopub.status.idle": "2021-04-16T15:01:44.733868Z",
     "shell.execute_reply": "2021-04-16T15:01:44.734371Z"
    },
    "papermill": {
     "duration": 0.083942,
     "end_time": "2021-04-16T15:01:44.734598",
     "exception": false,
     "start_time": "2021-04-16T15:01:44.650656",
     "status": "completed"
    },
    "tags": []
   },
   "outputs": [],
   "source": [
    "import string\n",
    "import re\n",
    "def clean(summary):\n",
    "    table = str.maketrans(dict.fromkeys(string.punctuation))\n",
    "    text = summary.translate(table)\n",
    "    text = re.sub(r\"[^a-zA-Z0-9\\s]\",\" \", summary.lower())\n",
    "    return text"
   ]
  },
  {
   "cell_type": "code",
   "execution_count": 44,
   "id": "reflected-alloy",
   "metadata": {
    "execution": {
     "iopub.execute_input": "2021-04-16T15:01:44.889036Z",
     "iopub.status.busy": "2021-04-16T15:01:44.888385Z",
     "iopub.status.idle": "2021-04-16T15:01:44.894041Z",
     "shell.execute_reply": "2021-04-16T15:01:44.894559Z"
    },
    "papermill": {
     "duration": 0.084272,
     "end_time": "2021-04-16T15:01:44.894733",
     "exception": false,
     "start_time": "2021-04-16T15:01:44.810461",
     "status": "completed"
    },
    "tags": []
   },
   "outputs": [],
   "source": [
    "def predict_genre(plot):\n",
    "    s = clean(plot)\n",
    "    lr_est = joblib.load('./LR_tuned_model.sav')\n",
    "    svc_est = joblib.load('./SVC_tuned_model.sav')\n",
    "    nb_est = joblib.load('./NB_tuned_model.sav')\n",
    "    return (lr_est.best_estimator_.predict([s])[0], svc_est.best_estimator_.predict([s])[0], nb_est.best_estimator_.predict([s])[0])"
   ]
  },
  {
   "cell_type": "markdown",
   "id": "catholic-hamburg",
   "metadata": {
    "papermill": {
     "duration": 0.07647,
     "end_time": "2021-04-16T15:01:45.047404",
     "exception": false,
     "start_time": "2021-04-16T15:01:44.970934",
     "status": "completed"
    },
    "tags": []
   },
   "source": [
    "Test with book summary of Edge of the Grave by Robbie Morrison: https://www.goodreads.com/book/show/56317981-edge-of-the-grave"
   ]
  },
  {
   "cell_type": "code",
   "execution_count": 45,
   "id": "horizontal-carpet",
   "metadata": {
    "execution": {
     "iopub.execute_input": "2021-04-16T15:01:45.205842Z",
     "iopub.status.busy": "2021-04-16T15:01:45.205138Z",
     "iopub.status.idle": "2021-04-16T15:01:45.231880Z",
     "shell.execute_reply": "2021-04-16T15:01:45.232465Z"
    },
    "papermill": {
     "duration": 0.10828,
     "end_time": "2021-04-16T15:01:45.232652",
     "exception": false,
     "start_time": "2021-04-16T15:01:45.124372",
     "status": "completed"
    },
    "tags": []
   },
   "outputs": [],
   "source": [
    "goodreads_df = pd.read_csv(filepath_or_buffer='../input/load-summaries/summaries_for_testing.csv', header=0,names=['title','author','genre','summary'] )\n",
    "goodreads_df.dropna(inplace=True)"
   ]
  },
  {
   "cell_type": "code",
   "execution_count": 46,
   "id": "transsexual-terminology",
   "metadata": {
    "execution": {
     "iopub.execute_input": "2021-04-16T15:01:45.389648Z",
     "iopub.status.busy": "2021-04-16T15:01:45.388878Z",
     "iopub.status.idle": "2021-04-16T15:05:46.443080Z",
     "shell.execute_reply": "2021-04-16T15:05:46.443609Z"
    },
    "papermill": {
     "duration": 241.133656,
     "end_time": "2021-04-16T15:05:46.443795",
     "exception": false,
     "start_time": "2021-04-16T15:01:45.310139",
     "status": "completed"
    },
    "tags": []
   },
   "outputs": [
    {
     "data": {
      "text/html": [
       "<div>\n",
       "<style scoped>\n",
       "    .dataframe tbody tr th:only-of-type {\n",
       "        vertical-align: middle;\n",
       "    }\n",
       "\n",
       "    .dataframe tbody tr th {\n",
       "        vertical-align: top;\n",
       "    }\n",
       "\n",
       "    .dataframe thead th {\n",
       "        text-align: right;\n",
       "    }\n",
       "</style>\n",
       "<table border=\"1\" class=\"dataframe\">\n",
       "  <thead>\n",
       "    <tr style=\"text-align: right;\">\n",
       "      <th></th>\n",
       "      <th>Title</th>\n",
       "      <th>Author</th>\n",
       "      <th>Prediction LR</th>\n",
       "      <th>Prediction SVC</th>\n",
       "      <th>Prediction NB</th>\n",
       "      <th>Genre</th>\n",
       "    </tr>\n",
       "  </thead>\n",
       "  <tbody>\n",
       "    <tr>\n",
       "      <th>0</th>\n",
       "      <td>A Court of Silver Flames</td>\n",
       "      <td>Sarah J. Maas</td>\n",
       "      <td>Young adult literature</td>\n",
       "      <td>Young adult literature</td>\n",
       "      <td>Young adult literature</td>\n",
       "      <td>Fantasy</td>\n",
       "    </tr>\n",
       "    <tr>\n",
       "      <th>1</th>\n",
       "      <td>Winter's Orbit</td>\n",
       "      <td>Everina Maxwell</td>\n",
       "      <td>Science Fiction</td>\n",
       "      <td>Science Fiction</td>\n",
       "      <td>Science Fiction</td>\n",
       "      <td>Science Fiction</td>\n",
       "    </tr>\n",
       "    <tr>\n",
       "      <th>2</th>\n",
       "      <td>The Electric Kingdom</td>\n",
       "      <td>David Arnold</td>\n",
       "      <td>Young adult literature</td>\n",
       "      <td>Science Fiction</td>\n",
       "      <td>Science Fiction</td>\n",
       "      <td>Young adult literature</td>\n",
       "    </tr>\n",
       "    <tr>\n",
       "      <th>3</th>\n",
       "      <td>The Lost Apothecary</td>\n",
       "      <td>Sarah Penner</td>\n",
       "      <td>Mystery</td>\n",
       "      <td>Science Fiction</td>\n",
       "      <td>Suspense</td>\n",
       "      <td>Mystery</td>\n",
       "    </tr>\n",
       "    <tr>\n",
       "      <th>4</th>\n",
       "      <td>Let Her Lie</td>\n",
       "      <td>Bryan Reardon</td>\n",
       "      <td>Mystery</td>\n",
       "      <td>Mystery</td>\n",
       "      <td>Mystery</td>\n",
       "      <td>Suspense</td>\n",
       "    </tr>\n",
       "    <tr>\n",
       "      <th>5</th>\n",
       "      <td>Four Lost Cities: A Secret History of the Urba...</td>\n",
       "      <td>Annalee Newitz</td>\n",
       "      <td>Non-fiction</td>\n",
       "      <td>Non-fiction</td>\n",
       "      <td>Non-fiction</td>\n",
       "      <td>Non-fiction</td>\n",
       "    </tr>\n",
       "    <tr>\n",
       "      <th>6</th>\n",
       "      <td>The Year I Flew Away</td>\n",
       "      <td>Marie Arnold</td>\n",
       "      <td>Young adult literature</td>\n",
       "      <td>Young adult literature</td>\n",
       "      <td>Young adult literature</td>\n",
       "      <td>Children's literature</td>\n",
       "    </tr>\n",
       "    <tr>\n",
       "      <th>7</th>\n",
       "      <td>Don't Overthink It</td>\n",
       "      <td>Anne Bogel</td>\n",
       "      <td>Non-fiction</td>\n",
       "      <td>Non-fiction</td>\n",
       "      <td>Non-fiction</td>\n",
       "      <td>Non-fiction</td>\n",
       "    </tr>\n",
       "    <tr>\n",
       "      <th>8</th>\n",
       "      <td>Ready Player One</td>\n",
       "      <td>Ernest Cline</td>\n",
       "      <td>Young adult literature</td>\n",
       "      <td>Young adult literature</td>\n",
       "      <td>Young adult literature</td>\n",
       "      <td>Speculative fiction</td>\n",
       "    </tr>\n",
       "    <tr>\n",
       "      <th>9</th>\n",
       "      <td>The Name of the Rose</td>\n",
       "      <td>Umberto Eco</td>\n",
       "      <td>Suspense</td>\n",
       "      <td>Suspense</td>\n",
       "      <td>Mystery</td>\n",
       "      <td>Crime Fiction</td>\n",
       "    </tr>\n",
       "  </tbody>\n",
       "</table>\n",
       "</div>"
      ],
      "text/plain": [
       "                                               Title           Author  \\\n",
       "0                           A Court of Silver Flames    Sarah J. Maas   \n",
       "1                                     Winter's Orbit  Everina Maxwell   \n",
       "2                               The Electric Kingdom     David Arnold   \n",
       "3                                The Lost Apothecary     Sarah Penner   \n",
       "4                                        Let Her Lie    Bryan Reardon   \n",
       "5  Four Lost Cities: A Secret History of the Urba...   Annalee Newitz   \n",
       "6                               The Year I Flew Away     Marie Arnold   \n",
       "7                                 Don't Overthink It       Anne Bogel   \n",
       "8                                   Ready Player One     Ernest Cline   \n",
       "9                               The Name of the Rose      Umberto Eco   \n",
       "\n",
       "            Prediction LR          Prediction SVC           Prediction NB  \\\n",
       "0  Young adult literature  Young adult literature  Young adult literature   \n",
       "1         Science Fiction         Science Fiction         Science Fiction   \n",
       "2  Young adult literature         Science Fiction         Science Fiction   \n",
       "3                 Mystery         Science Fiction                Suspense   \n",
       "4                 Mystery                 Mystery                 Mystery   \n",
       "5             Non-fiction             Non-fiction             Non-fiction   \n",
       "6  Young adult literature  Young adult literature  Young adult literature   \n",
       "7             Non-fiction             Non-fiction             Non-fiction   \n",
       "8  Young adult literature  Young adult literature  Young adult literature   \n",
       "9                Suspense                Suspense                 Mystery   \n",
       "\n",
       "                    Genre  \n",
       "0                 Fantasy  \n",
       "1         Science Fiction  \n",
       "2  Young adult literature  \n",
       "3                 Mystery  \n",
       "4                Suspense  \n",
       "5             Non-fiction  \n",
       "6   Children's literature  \n",
       "7             Non-fiction  \n",
       "8     Speculative fiction  \n",
       "9           Crime Fiction  "
      ]
     },
     "execution_count": 46,
     "metadata": {},
     "output_type": "execute_result"
    }
   ],
   "source": [
    "results= { 'Title': [],\n",
    "           'Author': [],\n",
    "           'Prediction LR': [],\n",
    "           'Prediction SVC': [],\n",
    "           'Prediction NB': [],\n",
    "           'Genre': []\n",
    "                }\n",
    "plots = goodreads_df.summary\n",
    "titles = goodreads_df.title\n",
    "authors = goodreads_df.author\n",
    "genres = goodreads_df.genre\n",
    "for i in range(len(goodreads_df)):\n",
    "    (lr, svc, nb) = predict_genre(plot=plots[i])\n",
    "    results['Title'].append(titles[i])\n",
    "    results['Author'].append(authors[i])\n",
    "    results['Prediction LR'].append(lr)\n",
    "    results['Prediction SVC'].append(svc)\n",
    "    results['Prediction NB'].append(nb)\n",
    "    results['Genre'].append(genres[i])\n",
    "results_df = pd.DataFrame.from_dict(results, orient='columns')\n",
    "results_df.head(10)"
   ]
  }
 ],
 "metadata": {
  "kernelspec": {
   "display_name": "Python 3",
   "language": "python",
   "name": "python3"
  },
  "language_info": {
   "codemirror_mode": {
    "name": "ipython",
    "version": 3
   },
   "file_extension": ".py",
   "mimetype": "text/x-python",
   "name": "python",
   "nbconvert_exporter": "python",
   "pygments_lexer": "ipython3",
   "version": "3.7.9"
  },
  "papermill": {
   "default_parameters": {},
   "duration": 9967.120809,
   "end_time": "2021-04-16T15:05:48.033828",
   "environment_variables": {},
   "exception": null,
   "input_path": "__notebook__.ipynb",
   "output_path": "__notebook__.ipynb",
   "parameters": {},
   "start_time": "2021-04-16T12:19:40.913019",
   "version": "2.3.2"
  }
 },
 "nbformat": 4,
 "nbformat_minor": 5
}
